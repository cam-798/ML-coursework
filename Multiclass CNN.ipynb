{
 "cells": [
  {
   "cell_type": "markdown",
   "id": "e0d557e5",
   "metadata": {},
   "source": [
    "<h5>Importing libraries</h5>"
   ]
  },
  {
   "cell_type": "code",
   "execution_count": 2,
   "id": "b4462fee",
   "metadata": {},
   "outputs": [],
   "source": [
    "#data handling\n",
    "import pandas as pd\n",
    "import numpy as np\n",
    "import os \n",
    "from PIL import Image\n",
    "\n",
    "# Machine learning (non deep learning)\n",
    "import sklearn\n",
    "from sklearn.linear_model import LogisticRegression\n",
    "from sklearn.model_selection import train_test_split\n",
    "from sklearn.metrics import confusion_matrix\n",
    "from sklearn.preprocessing import OneHotEncoder \n",
    "\n",
    "# Deep learning\n",
    "import tensorflow as tf\n",
    "import keras\n",
    "from keras import layers\n",
    "from keras_preprocessing.image import ImageDataGenerator\n",
    "from keras.models import Sequential\n",
    "from keras.applications.vgg16 import VGG16, preprocess_input\n",
    "from keras.layers import Conv2D, MaxPooling2D, Flatten, Dense, Dropout, BatchNormalization\n",
    "\n",
    "# plotting\n",
    "import seaborn as sns\n",
    "import matplotlib.pyplot as plt\n",
    "\n",
    "# misc\n",
    "import time # for recording model training time"
   ]
  },
  {
   "cell_type": "markdown",
   "id": "1625e2fa",
   "metadata": {},
   "source": [
    "<h5>Read in images into numpy arrays and record type of tumor with one hot encoder</h5>"
   ]
  },
  {
   "cell_type": "code",
   "execution_count": 3,
   "id": "d892ca2e",
   "metadata": {
    "scrolled": true
   },
   "outputs": [
    {
     "name": "stdout",
     "output_type": "stream",
     "text": [
      "lengths of the tumors files\n",
      "length of meningioma tumor files 855\n",
      "length of glioma tumor files 860\n",
      "length of pitulitary tumor files 831\n",
      "length of non-tumor files 454\n",
      "total files is 3000\n"
     ]
    }
   ],
   "source": [
    "img_reshape_size = (32,32)\n",
    "\n",
    "data = []\n",
    "result = []\n",
    "\n",
    "encoder = OneHotEncoder()\n",
    "encoder.fit([[0], [1], [2], [3]])  # 0 = no tumor, 1 = meningioma tumor, 2 = glioma tumor , 3 = pitulitary tumor\n",
    "\n",
    "# path to non tumor files\n",
    "no_tumor_image_dir = \"dataset/split_data/multi-class/no_tumor\"\n",
    "no_tumor_files = os.listdir(no_tumor_image_dir)\n",
    "\n",
    "# path to meningioma files\n",
    "meningioma_image_dir = \"dataset/split_data/multi-class/meningioma_tumor\"\n",
    "meningioma_files = os.listdir(meningioma_image_dir)\n",
    "\n",
    "# path to glioma files\n",
    "glioma_image_dir = \"dataset/split_data/multi-class/glioma_tumor\"\n",
    "glioma_files = os.listdir(glioma_image_dir)\n",
    "\n",
    "# path to pitulitary files\n",
    "pitulitary_image_dir = \"dataset/split_data/multi-class/pitulitary_tumor\"\n",
    "pitulitary_files = os.listdir(pitulitary_image_dir)\n",
    "\n",
    "\n",
    "print(\"lengths of the tumors files\")\n",
    "print(\"length of meningioma tumor files \" + str(len(meningioma_files)))\n",
    "print(\"length of glioma tumor files \" + str(len(glioma_files)))\n",
    "print(\"length of pitulitary tumor files \" + str(len(pitulitary_files)))\n",
    "print(\"length of non-tumor files \" + str(len(no_tumor_files)))\n",
    "print(\"total files is \" + str(len(meningioma_files)+len(glioma_files)+len(pitulitary_files)+len(no_tumor_files)))\n",
    "# should be 3000 files in total\n",
    "\n",
    "\n",
    "# could be looped to reduce amount of code\n",
    "\n",
    "## No tumor ##\n",
    "for file in no_tumor_files:\n",
    "    temp_file_path = no_tumor_image_dir + \"/\" +file\n",
    "    img = Image.open(temp_file_path).convert('L')\n",
    "    img = img.resize(img_reshape_size)\n",
    "    img = np.array(img)\n",
    "    data.append(np.array(img))\n",
    "    result.append(encoder.transform([[0]]).toarray())\n",
    "\n",
    "## Meningioma tumor ## \n",
    "for file in meningioma_files:\n",
    "    temp_file_path = meningioma_image_dir + \"/\" + file\n",
    "    img = Image.open(temp_file_path).convert('L')\n",
    "    img = img.resize(img_reshape_size)\n",
    "    img = np.array(img)\n",
    "    data.append(np.array(img))\n",
    "    result.append(encoder.transform([[1]]).toarray())\n",
    "       \n",
    "## Glioma tumor ##\n",
    "for file in glioma_files:\n",
    "    temp_file_path = glioma_image_dir + \"/\"  +file\n",
    "    img = Image.open(temp_file_path).convert('L')\n",
    "    img = img.resize(img_reshape_size)\n",
    "    img = np.array(img)\n",
    "    data.append(np.array(img))\n",
    "    result.append(encoder.transform([[2]]).toarray())\n",
    "        \n",
    "## Pitulitary tumor ##     \n",
    "for file in pitulitary_files:\n",
    "    temp_file_path = pitulitary_image_dir + \"/\"  +file\n",
    "    img = Image.open(temp_file_path).convert('L')\n",
    "    img = img.resize(img_reshape_size)\n",
    "    img = np.array(img)\n",
    "    data.append(np.array(img))\n",
    "    result.append(encoder.transform([[3]]).toarray())"
   ]
  },
  {
   "cell_type": "markdown",
   "id": "23878feb",
   "metadata": {},
   "source": [
    "<h5>Reshape data and split between test and train data</h5>"
   ]
  },
  {
   "cell_type": "code",
   "execution_count": 4,
   "id": "1bf006ab",
   "metadata": {},
   "outputs": [],
   "source": [
    "data = np.array(data)\n",
    "result = np.array(result)\n",
    "result = result.reshape(3000,4)\n",
    "x_train,x_test,y_train,y_test = train_test_split(data, result, test_size=0.1, shuffle=True, random_state=5)"
   ]
  },
  {
   "cell_type": "markdown",
   "id": "54a6453e",
   "metadata": {},
   "source": [
    "<h5>Build the CNN model</h5>"
   ]
  },
  {
   "cell_type": "code",
   "execution_count": 5,
   "id": "7abb2af0",
   "metadata": {},
   "outputs": [],
   "source": [
    "callback = tf.keras.callbacks.EarlyStopping(monitor='val_loss', patience=20)\n",
    "\n",
    "model = Sequential()\n",
    "\n",
    "model.add(Conv2D(32, kernel_size=(2, 2), input_shape=(32, 32, 1), padding = 'Same'))\n",
    "model.add(Conv2D(32, kernel_size=(2, 2),  activation ='relu', padding = 'Same'))\n",
    "\n",
    "\n",
    "model.add(BatchNormalization())\n",
    "model.add(MaxPooling2D(pool_size=(2, 2)))\n",
    "model.add(Dropout(0.25))\n",
    "\n",
    "model.add(Conv2D(64, kernel_size = (2,2), activation ='relu', padding = 'Same'))\n",
    "model.add(Conv2D(64, kernel_size = (2,2), activation ='relu', padding = 'Same'))\n",
    "\n",
    "model.add(BatchNormalization())\n",
    "model.add(MaxPooling2D(pool_size=(2,2), strides=(2,2)))\n",
    "model.add(Dropout(0.25))\n",
    "\n",
    "model.add(Flatten())\n",
    "\n",
    "model.add(Dense(512, activation='relu'))\n",
    "model.add(Dropout(0.5))\n",
    "model.add(Dense(4, activation='softmax'))\n",
    "\n",
    "model.compile(loss = \"categorical_crossentropy\", optimizer='Adamax',  metrics = ['accuracy'])\n",
    "#print(model.summary())"
   ]
  },
  {
   "cell_type": "markdown",
   "id": "84488f0b",
   "metadata": {},
   "source": [
    "<h5>Train the model and record time to train</h5>"
   ]
  },
  {
   "cell_type": "code",
   "execution_count": 6,
   "id": "c9ecb8cd",
   "metadata": {
    "scrolled": false
   },
   "outputs": [
    {
     "name": "stdout",
     "output_type": "stream",
     "text": [
      "Epoch 1/300\n",
      "338/338 [==============================] - 6s 15ms/step - loss: 1.4200 - accuracy: 0.5359 - val_loss: 0.8677 - val_accuracy: 0.6167\n",
      "Epoch 2/300\n",
      "338/338 [==============================] - 5s 16ms/step - loss: 0.8857 - accuracy: 0.6359 - val_loss: 0.9364 - val_accuracy: 0.6200\n",
      "Epoch 3/300\n",
      "338/338 [==============================] - 5s 15ms/step - loss: 0.8183 - accuracy: 0.6622 - val_loss: 0.6592 - val_accuracy: 0.7200\n",
      "Epoch 4/300\n",
      "338/338 [==============================] - 5s 15ms/step - loss: 0.7323 - accuracy: 0.6796 - val_loss: 0.6482 - val_accuracy: 0.7267\n",
      "Epoch 5/300\n",
      "338/338 [==============================] - 5s 16ms/step - loss: 0.6920 - accuracy: 0.7037 - val_loss: 0.6291 - val_accuracy: 0.7567\n",
      "Epoch 6/300\n",
      "338/338 [==============================] - 5s 15ms/step - loss: 0.6512 - accuracy: 0.7315 - val_loss: 0.5737 - val_accuracy: 0.7700\n",
      "Epoch 7/300\n",
      "338/338 [==============================] - 5s 15ms/step - loss: 0.6062 - accuracy: 0.7496 - val_loss: 0.5442 - val_accuracy: 0.7967\n",
      "Epoch 8/300\n",
      "338/338 [==============================] - 5s 15ms/step - loss: 0.5653 - accuracy: 0.7674 - val_loss: 0.5072 - val_accuracy: 0.8000\n",
      "Epoch 9/300\n",
      "338/338 [==============================] - 5s 15ms/step - loss: 0.5229 - accuracy: 0.7944 - val_loss: 0.4715 - val_accuracy: 0.8267\n",
      "Epoch 10/300\n",
      "338/338 [==============================] - 5s 15ms/step - loss: 0.5030 - accuracy: 0.8007 - val_loss: 0.4623 - val_accuracy: 0.8300\n",
      "Epoch 11/300\n",
      "338/338 [==============================] - 5s 15ms/step - loss: 0.4649 - accuracy: 0.8119 - val_loss: 0.4890 - val_accuracy: 0.8233\n",
      "Epoch 12/300\n",
      "338/338 [==============================] - 5s 14ms/step - loss: 0.4592 - accuracy: 0.8156 - val_loss: 0.5868 - val_accuracy: 0.8100\n",
      "Epoch 13/300\n",
      "338/338 [==============================] - 5s 15ms/step - loss: 0.4068 - accuracy: 0.8441 - val_loss: 0.4635 - val_accuracy: 0.8233\n",
      "Epoch 14/300\n",
      "338/338 [==============================] - 5s 15ms/step - loss: 0.3952 - accuracy: 0.8504 - val_loss: 0.4208 - val_accuracy: 0.8567\n",
      "Epoch 15/300\n",
      "338/338 [==============================] - 5s 15ms/step - loss: 0.3717 - accuracy: 0.8622 - val_loss: 0.3617 - val_accuracy: 0.8800\n",
      "Epoch 16/300\n",
      "338/338 [==============================] - 5s 15ms/step - loss: 0.3328 - accuracy: 0.8670 - val_loss: 0.5215 - val_accuracy: 0.8433\n",
      "Epoch 17/300\n",
      "338/338 [==============================] - 5s 14ms/step - loss: 0.3113 - accuracy: 0.8778 - val_loss: 0.3731 - val_accuracy: 0.8933\n",
      "Epoch 18/300\n",
      "338/338 [==============================] - 5s 15ms/step - loss: 0.2999 - accuracy: 0.8822 - val_loss: 0.3551 - val_accuracy: 0.9067\n",
      "Epoch 19/300\n",
      "338/338 [==============================] - 5s 15ms/step - loss: 0.2918 - accuracy: 0.8915 - val_loss: 0.3169 - val_accuracy: 0.9000\n",
      "Epoch 20/300\n",
      "338/338 [==============================] - 5s 15ms/step - loss: 0.2747 - accuracy: 0.8963 - val_loss: 0.3679 - val_accuracy: 0.8833\n",
      "Epoch 21/300\n",
      "338/338 [==============================] - 5s 15ms/step - loss: 0.2437 - accuracy: 0.9100 - val_loss: 0.3369 - val_accuracy: 0.9067\n",
      "Epoch 22/300\n",
      "338/338 [==============================] - 5s 15ms/step - loss: 0.2219 - accuracy: 0.9167 - val_loss: 0.4363 - val_accuracy: 0.8933\n",
      "Epoch 23/300\n",
      "338/338 [==============================] - 5s 15ms/step - loss: 0.2331 - accuracy: 0.9137 - val_loss: 0.7472 - val_accuracy: 0.7333\n",
      "Epoch 24/300\n",
      "338/338 [==============================] - 5s 15ms/step - loss: 0.2177 - accuracy: 0.9189 - val_loss: 0.3614 - val_accuracy: 0.8933\n",
      "Epoch 25/300\n",
      "338/338 [==============================] - 5s 16ms/step - loss: 0.2075 - accuracy: 0.9196 - val_loss: 0.3269 - val_accuracy: 0.9233\n",
      "Epoch 26/300\n",
      "338/338 [==============================] - 5s 15ms/step - loss: 0.1932 - accuracy: 0.9311 - val_loss: 0.3670 - val_accuracy: 0.9033\n",
      "Epoch 27/300\n",
      "338/338 [==============================] - 5s 16ms/step - loss: 0.1814 - accuracy: 0.9285 - val_loss: 0.3725 - val_accuracy: 0.9133\n",
      "Epoch 28/300\n",
      "338/338 [==============================] - 5s 16ms/step - loss: 0.1878 - accuracy: 0.9293 - val_loss: 0.3187 - val_accuracy: 0.9333\n",
      "Epoch 29/300\n",
      "338/338 [==============================] - 5s 16ms/step - loss: 0.1711 - accuracy: 0.9370 - val_loss: 0.2820 - val_accuracy: 0.9267\n",
      "Epoch 30/300\n",
      "338/338 [==============================] - 5s 15ms/step - loss: 0.1514 - accuracy: 0.9474 - val_loss: 0.3062 - val_accuracy: 0.9100\n",
      "Epoch 31/300\n",
      "338/338 [==============================] - 5s 15ms/step - loss: 0.1456 - accuracy: 0.9519 - val_loss: 0.3159 - val_accuracy: 0.9200\n",
      "Epoch 32/300\n",
      "338/338 [==============================] - 5s 15ms/step - loss: 0.1454 - accuracy: 0.9441 - val_loss: 0.4030 - val_accuracy: 0.9067\n",
      "Epoch 33/300\n",
      "338/338 [==============================] - 5s 15ms/step - loss: 0.1221 - accuracy: 0.9541 - val_loss: 0.3695 - val_accuracy: 0.9267\n",
      "Epoch 34/300\n",
      "338/338 [==============================] - 5s 16ms/step - loss: 0.1554 - accuracy: 0.9444 - val_loss: 0.2955 - val_accuracy: 0.9200\n",
      "Epoch 35/300\n",
      "338/338 [==============================] - 5s 15ms/step - loss: 0.1335 - accuracy: 0.9533 - val_loss: 0.3154 - val_accuracy: 0.9367\n",
      "Epoch 36/300\n",
      "338/338 [==============================] - 5s 16ms/step - loss: 0.1182 - accuracy: 0.9570 - val_loss: 0.3839 - val_accuracy: 0.9100\n",
      "Epoch 37/300\n",
      "338/338 [==============================] - 5s 16ms/step - loss: 0.1353 - accuracy: 0.9570 - val_loss: 0.3393 - val_accuracy: 0.9233\n",
      "Epoch 38/300\n",
      "338/338 [==============================] - 5s 15ms/step - loss: 0.1121 - accuracy: 0.9589 - val_loss: 0.3422 - val_accuracy: 0.9400\n",
      "Epoch 39/300\n",
      "338/338 [==============================] - 5s 15ms/step - loss: 0.1047 - accuracy: 0.9652 - val_loss: 0.3474 - val_accuracy: 0.9400\n",
      "Epoch 40/300\n",
      "338/338 [==============================] - 5s 15ms/step - loss: 0.1065 - accuracy: 0.9648 - val_loss: 0.3626 - val_accuracy: 0.9567\n",
      "Epoch 41/300\n",
      "338/338 [==============================] - 5s 15ms/step - loss: 0.0879 - accuracy: 0.9681 - val_loss: 0.3023 - val_accuracy: 0.9333\n",
      "Epoch 42/300\n",
      "338/338 [==============================] - 5s 15ms/step - loss: 0.0858 - accuracy: 0.9667 - val_loss: 0.3195 - val_accuracy: 0.9400\n",
      "Epoch 43/300\n",
      "338/338 [==============================] - 5s 15ms/step - loss: 0.0896 - accuracy: 0.9667 - val_loss: 0.3095 - val_accuracy: 0.9433\n",
      "Epoch 44/300\n",
      "338/338 [==============================] - 5s 15ms/step - loss: 0.0803 - accuracy: 0.9707 - val_loss: 0.3276 - val_accuracy: 0.9567\n",
      "--- 225.53433322906494 seconds ---\n"
     ]
    }
   ],
   "source": [
    "start_time = time.time()\n",
    "history = model.fit(x_train, y_train, epochs = 300, batch_size = 8, verbose=1, validation_data = (x_test, y_test), callbacks=[callback])\n",
    "print(\"--- %s seconds ---\" % (time.time() - start_time))"
   ]
  },
  {
   "cell_type": "markdown",
   "id": "eb83d476",
   "metadata": {},
   "source": [
    "<h5>Plot accuracy over epochs</h5> "
   ]
  },
  {
   "cell_type": "code",
   "execution_count": 29,
   "id": "3743808b",
   "metadata": {},
   "outputs": [
    {
     "data": {
      "image/png": "[encoded data removed]",
      "text/plain": [
       "<Figure size 432x288 with 1 Axes>"
      ]
     },
     "metadata": {
      "needs_background": "light"
     },
     "output_type": "display_data"
    }
   ],
   "source": [
    "plt.plot(history.history['val_accuracy'], label=\"test data accuracy\")\n",
    "plt.plot(history.history['accuracy'], label=\"train data accuracy\")\n",
    "plt.xlabel('Epoch')\n",
    "plt.ylabel('Accuracy (%)')\n",
    "plt.suptitle('Multi-class model')\n",
    "plt.title('Training data accuracy vs validation accuracy during training')\n",
    "ax = plt.gca()\n",
    "ax.set_xlim([-2, 50])\n",
    "ax.set_ylim([0.5, 1.05])\n",
    "plt.legend()\n",
    "plt.show()"
   ]
  },
  {
   "cell_type": "markdown",
   "id": "be35524a",
   "metadata": {},
   "source": [
    "<h6>Some basic results recording, just for keeping information to hand</h6>\n",
    "\n",
    "94.34445095062256 seconds --- 30 epochs , 0.9033 acc , 32x32 RGB image (images are still in greyscale, just RGB format)\n",
    "\n",
    "343.3586163520813 seconds --- 30 epcohs , 0.9182 acc , 64x64 RGB image (images are still in greyscale, just RGB format)\n",
    "\n",
    "1364.8851137161255 seconds --- 30 epochs , 0.8950 acc , 128x128 Greyscale image\n",
    "\n",
    "313.81851744651794 seconds --- 30 epochs , 0.8750 acc , 64x64 Greyscale image\n",
    "\n",
    "87.09897923469543 seconds --- 30 epochs , 0.8833 acc , 32x32 Greyscale image\n",
    "\n",
    "31.2696533203125 seconds --- 30 epochs , 0.8200 acc , 16x16 Greyscale image\n",
    "\n",
    "183.15469479560852 seconds --- 60 epochs , 0.9117 acc , 32x32 Greyscale image"
   ]
  },
  {
   "cell_type": "markdown",
   "id": "ee1d7466",
   "metadata": {},
   "source": [
    "<h5>Read in the validation data in the same way we read in the training and testing data</h5>"
   ]
  },
  {
   "cell_type": "code",
   "execution_count": 25,
   "id": "7eda74d3",
   "metadata": {},
   "outputs": [],
   "source": [
    "img_reshape_size = (32,32)\n",
    "\n",
    "validation_data = []\n",
    "validation_result = []\n",
    "\n",
    "encoder = OneHotEncoder()\n",
    "encoder.fit([[0], [1], [2], [3]]) \n",
    "\n",
    "# path to non tumor files\n",
    "no_tumor_image_dir = \"test_dataset/test/split_data/multi-class/no_tumor\"\n",
    "no_tumor_files = os.listdir(no_tumor_image_dir)\n",
    "\n",
    "# path to meningioma files\n",
    "meningioma_image_dir = \"test_dataset/test/split_data/multi-class/meningioma_tumor\"\n",
    "meningioma_files = os.listdir(meningioma_image_dir)\n",
    "\n",
    "# path to glioma files\n",
    "glioma_image_dir = \"test_dataset/test/split_data/multi-class/glioma_tumor\"\n",
    "glioma_files = os.listdir(glioma_image_dir)\n",
    "\n",
    "# path to pitulitary files\n",
    "pitulitary_image_dir = \"test_dataset/test/split_data/multi-class/pitulitary_tumor\"\n",
    "pitulitary_files = os.listdir(pitulitary_image_dir)\n",
    "\n",
    "all_tumor_files_ordered = [] # to find the path of the hardest images\n",
    "\n",
    "for file in no_tumor_files:\n",
    "    temp_file_path = no_tumor_image_dir + \"/\" +file\n",
    "    all_tumor_files_ordered.append(temp_file_path)\n",
    "    img = Image.open(temp_file_path).convert('L')\n",
    "    img = img.resize(img_reshape_size)\n",
    "    img = np.array(img)\n",
    "    validation_data.append(np.array(img))\n",
    "    validation_result.append(encoder.transform([[0]]).toarray())\n",
    "\n",
    "for file in meningioma_files:\n",
    "    temp_file_path = meningioma_image_dir + \"/\" + file\n",
    "    all_tumor_files_ordered.append(temp_file_path)\n",
    "    img = Image.open(temp_file_path).convert('L')\n",
    "    img = img.resize(img_reshape_size)\n",
    "    img = np.array(img)\n",
    "    validation_data.append(np.array(img))\n",
    "    validation_result.append(encoder.transform([[1]]).toarray())\n",
    "        \n",
    "for file in glioma_files:\n",
    "    temp_file_path = glioma_image_dir + \"/\"  +file\n",
    "    all_tumor_files_ordered.append(temp_file_path)\n",
    "    img = Image.open(temp_file_path).convert('L')\n",
    "    img = img.resize(img_reshape_size)\n",
    "    img = np.array(img)\n",
    "    validation_data.append(np.array(img))\n",
    "    validation_result.append(encoder.transform([[2]]).toarray())\n",
    "        \n",
    "        \n",
    "for file in pitulitary_files:\n",
    "    temp_file_path = pitulitary_image_dir + \"/\"  +file\n",
    "    all_tumor_files_ordered.append(temp_file_path)\n",
    "    img = Image.open(temp_file_path).convert('L')\n",
    "    img = img.resize(img_reshape_size)\n",
    "    img = np.array(img)\n",
    "    validation_data.append(np.array(img))\n",
    "    validation_result.append(encoder.transform([[3]]).toarray())\n",
    "     "
   ]
  },
  {
   "cell_type": "markdown",
   "id": "e1996edf",
   "metadata": {},
   "source": [
    "<h5>reshape validation data</h5>"
   ]
  },
  {
   "cell_type": "code",
   "execution_count": 9,
   "id": "27f62d61",
   "metadata": {},
   "outputs": [],
   "source": [
    "validation_data = np.array(validation_data)\n",
    "validation_result = np.array(validation_result)\n",
    "validation_result = validation_result.reshape(200,4)"
   ]
  },
  {
   "cell_type": "markdown",
   "id": "c6423c5a",
   "metadata": {},
   "source": [
    "<h5>Get and print scores</h5>"
   ]
  },
  {
   "cell_type": "code",
   "execution_count": 10,
   "id": "c9a1f57c",
   "metadata": {},
   "outputs": [],
   "source": [
    "scores = model.evaluate(validation_data, validation_result, verbose=10)"
   ]
  },
  {
   "cell_type": "code",
   "execution_count": 11,
   "id": "ec753bfa",
   "metadata": {},
   "outputs": [
    {
     "name": "stdout",
     "output_type": "stream",
     "text": [
      "test loss: 0.3009167015552521\n",
      "test accuracy: 0.9449999928474426\n"
     ]
    }
   ],
   "source": [
    "print(\"test loss: \" + str(scores[0]))\n",
    "print(\"test accuracy: \" + str(scores[1]))"
   ]
  },
  {
   "cell_type": "code",
   "execution_count": 14,
   "id": "e535ff00",
   "metadata": {},
   "outputs": [],
   "source": [
    "def get_tumor_name(num):\n",
    "        if num == 0:\n",
    "            return(\"no tumor\")\n",
    "        if num == 1:\n",
    "            return(\"meningioma\")\n",
    "        if num == 2:\n",
    "            return(\"glioma\")\n",
    "        if num == 3:\n",
    "            return(\"pitulitary\")"
   ]
  },
  {
   "cell_type": "code",
   "execution_count": 18,
   "id": "67a2cfac",
   "metadata": {},
   "outputs": [
    {
     "name": "stdout",
     "output_type": "stream",
     "text": [
      "54 predicted :  pitulitary . truth : meningioma\n",
      "58 predicted :  pitulitary . truth : meningioma\n",
      "74 predicted :  pitulitary . truth : meningioma\n",
      "97 predicted :  pitulitary . truth : meningioma\n",
      "104 predicted :  glioma . truth : meningioma\n",
      "107 predicted :  no tumor . truth : glioma\n",
      "110 predicted :  no tumor . truth : glioma\n",
      "111 predicted :  meningioma . truth : glioma\n",
      "113 predicted :  meningioma . truth : glioma\n",
      "120 predicted :  no tumor . truth : glioma\n",
      "141 predicted :  meningioma . truth : glioma\n"
     ]
    }
   ],
   "source": [
    "difficult_images = []\n",
    "for i in range(len(validation_result)):\n",
    "    img = np.expand_dims(validation_data[i], axis = 0)\n",
    "    if (np.argmax(model.predict(img)) != np.argmax(validation_result[i])):\n",
    "        difficult_images.append(i)\n",
    "        print(str(i),\"predicted : \" , get_tumor_name(np.argmax(model.predict(img))) , \". truth :\" , get_tumor_name(np.argmax(validation_result[i])))"
   ]
  },
  {
   "cell_type": "code",
   "execution_count": 30,
   "id": "78420b1a",
   "metadata": {},
   "outputs": [
    {
     "data": {
      "text/plain": [
       "[54, 58, 74, 97, 104, 107, 110, 111, 113, 120, 141]"
      ]
     },
     "execution_count": 30,
     "metadata": {},
     "output_type": "execute_result"
    }
   ],
   "source": [
    "difficult_images # images multiple classifiers got wrong"
   ]
  },
  {
   "cell_type": "code",
   "execution_count": 31,
   "id": "bde4da95",
   "metadata": {},
   "outputs": [],
   "source": [
    "images_loc = [54,58,74,97,107,110,111,120]"
   ]
  },
  {
   "cell_type": "code",
   "execution_count": 32,
   "id": "523f4cbe",
   "metadata": {},
   "outputs": [
    {
     "name": "stdout",
     "output_type": "stream",
     "text": [
      "test_dataset/test/split_data/multi-class/meningioma_tumor/IMAGE_0055.jpg\n",
      "test_dataset/test/split_data/multi-class/meningioma_tumor/IMAGE_0062.jpg\n",
      "test_dataset/test/split_data/multi-class/meningioma_tumor/IMAGE_0120.jpg\n",
      "test_dataset/test/split_data/multi-class/meningioma_tumor/IMAGE_0186.jpg\n",
      "test_dataset/test/split_data/multi-class/glioma_tumor/IMAGE_0009.jpg\n",
      "test_dataset/test/split_data/multi-class/glioma_tumor/IMAGE_0031.jpg\n",
      "test_dataset/test/split_data/multi-class/glioma_tumor/IMAGE_0035.jpg\n",
      "test_dataset/test/split_data/multi-class/glioma_tumor/IMAGE_0073.jpg\n"
     ]
    }
   ],
   "source": [
    "for i in images_loc:\n",
    "    print(all_tumor_files_ordered[i])"
   ]
  }
 ],
 "metadata": {
  "kernelspec": {
   "display_name": "Python 3 (ipykernel)",
   "language": "python",
   "name": "python3"
  },
  "language_info": {
   "codemirror_mode": {
    "name": "ipython",
    "version": 3
   },
   "file_extension": ".py",
   "mimetype": "text/x-python",
   "name": "python",
   "nbconvert_exporter": "python",
   "pygments_lexer": "ipython3",
   "version": "3.9.6"
  }
 },
 "nbformat": 4,
 "nbformat_minor": 5
}
