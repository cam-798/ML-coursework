{
 "cells": [
  {
   "cell_type": "markdown",
   "id": "e0d557e5",
   "metadata": {},
   "source": [
    "<h5>Importing libraries</h5>"
   ]
  },
  {
   "cell_type": "code",
   "execution_count": 54,
   "id": "b4462fee",
   "metadata": {},
   "outputs": [],
   "source": [
    "# data handling\n",
    "import pandas as pd\n",
    "import numpy as np\n",
    "import os \n",
    "from PIL import Image\n",
    "\n",
    "# Machine learning (non deep learning)\n",
    "import sklearn\n",
    "from sklearn.linear_model import LogisticRegression\n",
    "from sklearn.model_selection import train_test_split\n",
    "from sklearn.preprocessing import OneHotEncoder \n",
    "from sklearn.metrics import auc\n",
    "from sklearn.metrics import roc_curve\n",
    "from sklearn.metrics import RocCurveDisplay\n",
    "\n",
    "\n",
    "# Deep learning\n",
    "import tensorflow as tf\n",
    "import keras\n",
    "from keras import layers\n",
    "from keras_preprocessing.image import ImageDataGenerator\n",
    "from keras.models import Sequential\n",
    "from keras.applications.vgg16 import VGG16, preprocess_input\n",
    "from keras.layers import Conv2D, MaxPooling2D, Flatten, Dense, Dropout, BatchNormalization\n",
    "\n",
    "# plotting\n",
    "import seaborn as sns\n",
    "import matplotlib.pyplot as plt\n",
    "\n",
    "# misc\n",
    "import time"
   ]
  },
  {
   "cell_type": "markdown",
   "id": "1625e2fa",
   "metadata": {},
   "source": [
    "<h5>Read in images into numpy arrays and record type of tumor with one hot encoder</h5>"
   ]
  },
  {
   "cell_type": "code",
   "execution_count": 55,
   "id": "d892ca2e",
   "metadata": {
    "scrolled": true
   },
   "outputs": [],
   "source": [
    "img_reshape_size = (32,32)\n",
    "\n",
    "data = []\n",
    "result = []\n",
    "\n",
    "encoder = OneHotEncoder()\n",
    "encoder.fit([[0], [1]]) \n",
    "\n",
    "# path to tumor files\n",
    "tumor_image_dir = \"dataset/split_data/binary/tumor\"\n",
    "tumor_files = os.listdir(tumor_image_dir)\n",
    "\n",
    "# path to non tumor files\n",
    "no_tumor_image_dir = \"dataset/split_data/binary/no_tumor\"\n",
    "no_tumor_files = os.listdir(no_tumor_image_dir)\n",
    "\n",
    "for file in tumor_files:\n",
    "    temp_file_path = \"dataset/split_data/binary/tumor/\"+file\n",
    "    img = Image.open(temp_file_path).convert('L')\n",
    "    img = img.resize(img_reshape_size)\n",
    "    img = np.array(img)\n",
    "    data.append(np.array(img))\n",
    "    result.append(encoder.transform([[1]]).toarray())\n",
    "        \n",
    "\n",
    "for file in no_tumor_files:\n",
    "    temp_file_path = \"dataset/split_data/binary/no_tumor/\"+file\n",
    "    img = Image.open(temp_file_path).convert('L')\n",
    "    img = img.resize(img_reshape_size)\n",
    "    img = np.array(img)\n",
    "    data.append(np.array(img))\n",
    "    result.append(encoder.transform([[0]]).toarray())"
   ]
  },
  {
   "cell_type": "markdown",
   "id": "0435ded4",
   "metadata": {},
   "source": [
    "<h5>Reshape data and split between test and train data</h5>"
   ]
  },
  {
   "cell_type": "code",
   "execution_count": 56,
   "id": "1bf006ab",
   "metadata": {},
   "outputs": [
    {
     "name": "stdout",
     "output_type": "stream",
     "text": [
      "(3000, 32, 32)\n"
     ]
    }
   ],
   "source": [
    "data = np.array(data)\n",
    "print(data.shape)\n",
    "\n",
    "result = np.array(result)\n",
    "result = result.reshape(3000,2)\n",
    "\n",
    "x_train,x_test,y_train,y_test = train_test_split(data, result, test_size=0.1, shuffle=True, random_state=0)"
   ]
  },
  {
   "cell_type": "markdown",
   "id": "eaf30598",
   "metadata": {},
   "source": [
    "<h5>Build the CNN model</h5>"
   ]
  },
  {
   "cell_type": "code",
   "execution_count": 57,
   "id": "7abb2af0",
   "metadata": {},
   "outputs": [
    {
     "name": "stdout",
     "output_type": "stream",
     "text": [
      "Model: \"sequential_4\"\n",
      "_________________________________________________________________\n",
      " Layer (type)                Output Shape              Param #   \n",
      "=================================================================\n",
      " conv2d_16 (Conv2D)          (None, 32, 32, 32)        160       \n",
      "                                                                 \n",
      " conv2d_17 (Conv2D)          (None, 32, 32, 32)        4128      \n",
      "                                                                 \n",
      " batch_normalization_8 (Batc  (None, 32, 32, 32)       128       \n",
      " hNormalization)                                                 \n",
      "                                                                 \n",
      " max_pooling2d_8 (MaxPooling  (None, 16, 16, 32)       0         \n",
      " 2D)                                                             \n",
      "                                                                 \n",
      " dropout_12 (Dropout)        (None, 16, 16, 32)        0         \n",
      "                                                                 \n",
      " conv2d_18 (Conv2D)          (None, 16, 16, 64)        8256      \n",
      "                                                                 \n",
      " conv2d_19 (Conv2D)          (None, 16, 16, 64)        16448     \n",
      "                                                                 \n",
      " batch_normalization_9 (Batc  (None, 16, 16, 64)       256       \n",
      " hNormalization)                                                 \n",
      "                                                                 \n",
      " max_pooling2d_9 (MaxPooling  (None, 8, 8, 64)         0         \n",
      " 2D)                                                             \n",
      "                                                                 \n",
      " dropout_13 (Dropout)        (None, 8, 8, 64)          0         \n",
      "                                                                 \n",
      " flatten_4 (Flatten)         (None, 4096)              0         \n",
      "                                                                 \n",
      " dense_8 (Dense)             (None, 512)               2097664   \n",
      "                                                                 \n",
      " dropout_14 (Dropout)        (None, 512)               0         \n",
      "                                                                 \n",
      " dense_9 (Dense)             (None, 2)                 1026      \n",
      "                                                                 \n",
      "=================================================================\n",
      "Total params: 2,128,066\n",
      "Trainable params: 2,127,874\n",
      "Non-trainable params: 192\n",
      "_________________________________________________________________\n",
      "None\n"
     ]
    }
   ],
   "source": [
    "callback = tf.keras.callbacks.EarlyStopping(monitor='val_loss', patience=20)\n",
    "\n",
    "model = Sequential()\n",
    "\n",
    "model.add(Conv2D(32, kernel_size=(2, 2), input_shape=(32, 32, 1), padding = 'Same'))\n",
    "model.add(Conv2D(32, kernel_size=(2, 2),  activation ='relu', padding = 'Same'))\n",
    "\n",
    "model.add(BatchNormalization())\n",
    "model.add(MaxPooling2D(pool_size=(2, 2)))\n",
    "model.add(Dropout(0.25))\n",
    "\n",
    "model.add(Conv2D(64, kernel_size = (2,2), activation ='relu', padding = 'Same'))\n",
    "model.add(Conv2D(64, kernel_size = (2,2), activation ='relu', padding = 'Same'))\n",
    "\n",
    "model.add(BatchNormalization())\n",
    "model.add(MaxPooling2D(pool_size=(2,2), strides=(2,2)))\n",
    "model.add(Dropout(0.25))\n",
    "\n",
    "model.add(Flatten())\n",
    "\n",
    "model.add(Dense(512, activation='relu'))\n",
    "model.add(Dropout(0.5))\n",
    "model.add(Dense(2, activation='softmax'))\n",
    "\n",
    "model.compile(loss = \"categorical_crossentropy\", optimizer='Adamax',  metrics = ['accuracy'])\n",
    "print(model.summary())"
   ]
  },
  {
   "cell_type": "markdown",
   "id": "998c1090",
   "metadata": {},
   "source": [
    "<h5>Train the model and record time to train</h5>"
   ]
  },
  {
   "cell_type": "code",
   "execution_count": 58,
   "id": "c9ecb8cd",
   "metadata": {
    "scrolled": false
   },
   "outputs": [
    {
     "name": "stdout",
     "output_type": "stream",
     "text": [
      "Epoch 1/300\n",
      "338/338 [==============================] - 11s 31ms/step - loss: 0.7577 - accuracy: 0.8400 - val_loss: 0.1496 - val_accuracy: 0.9333\n",
      "Epoch 2/300\n",
      "338/338 [==============================] - 10s 30ms/step - loss: 0.3292 - accuracy: 0.8863 - val_loss: 0.1482 - val_accuracy: 0.9267\n",
      "Epoch 3/300\n",
      "338/338 [==============================] - 11s 31ms/step - loss: 0.2397 - accuracy: 0.9037 - val_loss: 0.1437 - val_accuracy: 0.9333\n",
      "Epoch 4/300\n",
      "338/338 [==============================] - 11s 31ms/step - loss: 0.2110 - accuracy: 0.9104 - val_loss: 0.1448 - val_accuracy: 0.9200\n",
      "Epoch 5/300\n",
      "338/338 [==============================] - 11s 31ms/step - loss: 0.1810 - accuracy: 0.9274 - val_loss: 0.1091 - val_accuracy: 0.9533\n",
      "Epoch 6/300\n",
      "338/338 [==============================] - 10s 30ms/step - loss: 0.1614 - accuracy: 0.9381 - val_loss: 0.0879 - val_accuracy: 0.9567\n",
      "Epoch 7/300\n",
      "338/338 [==============================] - 12s 36ms/step - loss: 0.1447 - accuracy: 0.9374 - val_loss: 0.0907 - val_accuracy: 0.9533\n",
      "Epoch 8/300\n",
      "338/338 [==============================] - 11s 33ms/step - loss: 0.1310 - accuracy: 0.9441 - val_loss: 0.0877 - val_accuracy: 0.9600\n",
      "Epoch 9/300\n",
      "338/338 [==============================] - 10s 30ms/step - loss: 0.1069 - accuracy: 0.9541 - val_loss: 0.1096 - val_accuracy: 0.9633\n",
      "Epoch 10/300\n",
      "338/338 [==============================] - 11s 31ms/step - loss: 0.1066 - accuracy: 0.9541 - val_loss: 0.1085 - val_accuracy: 0.9367\n",
      "Epoch 11/300\n",
      "338/338 [==============================] - 12s 35ms/step - loss: 0.0847 - accuracy: 0.9656 - val_loss: 0.1269 - val_accuracy: 0.9467\n",
      "Epoch 12/300\n",
      "338/338 [==============================] - 11s 33ms/step - loss: 0.0803 - accuracy: 0.9681 - val_loss: 0.0995 - val_accuracy: 0.9533\n",
      "Epoch 13/300\n",
      "338/338 [==============================] - 10s 30ms/step - loss: 0.0752 - accuracy: 0.9733 - val_loss: 0.0700 - val_accuracy: 0.9700\n",
      "Epoch 14/300\n",
      "338/338 [==============================] - 10s 28ms/step - loss: 0.0712 - accuracy: 0.9696 - val_loss: 0.0839 - val_accuracy: 0.9667\n",
      "Epoch 15/300\n",
      "338/338 [==============================] - 10s 31ms/step - loss: 0.0551 - accuracy: 0.9789 - val_loss: 0.0843 - val_accuracy: 0.9667\n",
      "Epoch 16/300\n",
      "338/338 [==============================] - 11s 33ms/step - loss: 0.0555 - accuracy: 0.9807 - val_loss: 0.0898 - val_accuracy: 0.9700\n",
      "Epoch 17/300\n",
      "338/338 [==============================] - 13s 38ms/step - loss: 0.0621 - accuracy: 0.9748 - val_loss: 0.0725 - val_accuracy: 0.9700\n",
      "Epoch 18/300\n",
      "338/338 [==============================] - 11s 32ms/step - loss: 0.0516 - accuracy: 0.9844 - val_loss: 0.0665 - val_accuracy: 0.9800\n",
      "Epoch 19/300\n",
      "338/338 [==============================] - 10s 30ms/step - loss: 0.0430 - accuracy: 0.9833 - val_loss: 0.0697 - val_accuracy: 0.9700\n",
      "Epoch 20/300\n",
      "338/338 [==============================] - 10s 29ms/step - loss: 0.0345 - accuracy: 0.9881 - val_loss: 0.0531 - val_accuracy: 0.9767\n",
      "Epoch 21/300\n",
      "338/338 [==============================] - 10s 30ms/step - loss: 0.0400 - accuracy: 0.9848 - val_loss: 0.0695 - val_accuracy: 0.9733\n",
      "Epoch 22/300\n",
      "338/338 [==============================] - 11s 33ms/step - loss: 0.0381 - accuracy: 0.9841 - val_loss: 0.0556 - val_accuracy: 0.9733\n",
      "Epoch 23/300\n",
      "338/338 [==============================] - 11s 33ms/step - loss: 0.0310 - accuracy: 0.9893 - val_loss: 0.0519 - val_accuracy: 0.9767\n",
      "Epoch 24/300\n",
      "338/338 [==============================] - 10s 31ms/step - loss: 0.0269 - accuracy: 0.9907 - val_loss: 0.0669 - val_accuracy: 0.9767\n",
      "Epoch 25/300\n",
      "338/338 [==============================] - 11s 32ms/step - loss: 0.0386 - accuracy: 0.9856 - val_loss: 0.0618 - val_accuracy: 0.9733\n",
      "Epoch 26/300\n",
      "338/338 [==============================] - 11s 33ms/step - loss: 0.0296 - accuracy: 0.9896 - val_loss: 0.0780 - val_accuracy: 0.9800\n",
      "Epoch 27/300\n",
      "338/338 [==============================] - 11s 31ms/step - loss: 0.0253 - accuracy: 0.9893 - val_loss: 0.0765 - val_accuracy: 0.9767\n",
      "Epoch 28/300\n",
      "338/338 [==============================] - 10s 30ms/step - loss: 0.0174 - accuracy: 0.9944 - val_loss: 0.0462 - val_accuracy: 0.9867\n",
      "Epoch 29/300\n",
      "338/338 [==============================] - 10s 31ms/step - loss: 0.0185 - accuracy: 0.9933 - val_loss: 0.0602 - val_accuracy: 0.9833\n",
      "Epoch 30/300\n",
      "338/338 [==============================] - 11s 31ms/step - loss: 0.0183 - accuracy: 0.9937 - val_loss: 0.0505 - val_accuracy: 0.9833\n",
      "Epoch 31/300\n",
      "338/338 [==============================] - 11s 32ms/step - loss: 0.0203 - accuracy: 0.9926 - val_loss: 0.0693 - val_accuracy: 0.9800\n",
      "Epoch 32/300\n",
      "338/338 [==============================] - 11s 32ms/step - loss: 0.0173 - accuracy: 0.9948 - val_loss: 0.0610 - val_accuracy: 0.9833\n",
      "Epoch 33/300\n",
      "338/338 [==============================] - 11s 33ms/step - loss: 0.0166 - accuracy: 0.9944 - val_loss: 0.0603 - val_accuracy: 0.9800\n",
      "Epoch 34/300\n",
      "338/338 [==============================] - 10s 30ms/step - loss: 0.0202 - accuracy: 0.9930 - val_loss: 0.0481 - val_accuracy: 0.9833\n",
      "Epoch 35/300\n",
      "338/338 [==============================] - 10s 30ms/step - loss: 0.0151 - accuracy: 0.9941 - val_loss: 0.0572 - val_accuracy: 0.9800\n",
      "Epoch 36/300\n",
      "338/338 [==============================] - 11s 32ms/step - loss: 0.0194 - accuracy: 0.9933 - val_loss: 0.0512 - val_accuracy: 0.9867\n",
      "Epoch 37/300\n",
      "338/338 [==============================] - 11s 33ms/step - loss: 0.0138 - accuracy: 0.9948 - val_loss: 0.0505 - val_accuracy: 0.9800\n",
      "Epoch 38/300\n",
      "338/338 [==============================] - 10s 31ms/step - loss: 0.0169 - accuracy: 0.9922 - val_loss: 0.0475 - val_accuracy: 0.9867\n",
      "Epoch 39/300\n",
      "338/338 [==============================] - 11s 31ms/step - loss: 0.0085 - accuracy: 0.9978 - val_loss: 0.0519 - val_accuracy: 0.9767\n",
      "Epoch 40/300\n",
      "338/338 [==============================] - 10s 30ms/step - loss: 0.0064 - accuracy: 0.9985 - val_loss: 0.0364 - val_accuracy: 0.9867\n",
      "Epoch 41/300\n",
      "338/338 [==============================] - 11s 31ms/step - loss: 0.0115 - accuracy: 0.9963 - val_loss: 0.0452 - val_accuracy: 0.9867\n",
      "Epoch 42/300\n",
      "338/338 [==============================] - 10s 30ms/step - loss: 0.0069 - accuracy: 0.9970 - val_loss: 0.0624 - val_accuracy: 0.9833\n",
      "Epoch 43/300\n",
      "338/338 [==============================] - 11s 33ms/step - loss: 0.0137 - accuracy: 0.9952 - val_loss: 0.0482 - val_accuracy: 0.9767\n",
      "Epoch 44/300\n",
      "338/338 [==============================] - 11s 34ms/step - loss: 0.0141 - accuracy: 0.9948 - val_loss: 0.0722 - val_accuracy: 0.9800\n",
      "Epoch 45/300\n",
      "338/338 [==============================] - 10s 30ms/step - loss: 0.0162 - accuracy: 0.9941 - val_loss: 0.0531 - val_accuracy: 0.9833\n",
      "Epoch 46/300\n",
      "338/338 [==============================] - 11s 32ms/step - loss: 0.0075 - accuracy: 0.9974 - val_loss: 0.0576 - val_accuracy: 0.9900\n",
      "Epoch 47/300\n",
      "338/338 [==============================] - 11s 31ms/step - loss: 0.0062 - accuracy: 0.9970 - val_loss: 0.0704 - val_accuracy: 0.9800\n",
      "Epoch 48/300\n",
      "338/338 [==============================] - 11s 33ms/step - loss: 0.0089 - accuracy: 0.9967 - val_loss: 0.0950 - val_accuracy: 0.9800\n",
      "Epoch 49/300\n",
      "338/338 [==============================] - 10s 31ms/step - loss: 0.0085 - accuracy: 0.9963 - val_loss: 0.0707 - val_accuracy: 0.9800\n",
      "Epoch 50/300\n",
      "338/338 [==============================] - 11s 32ms/step - loss: 0.0077 - accuracy: 0.9967 - val_loss: 0.0665 - val_accuracy: 0.9833\n",
      "Epoch 51/300\n",
      "338/338 [==============================] - 11s 32ms/step - loss: 0.0081 - accuracy: 0.9959 - val_loss: 0.0741 - val_accuracy: 0.9767\n",
      "Epoch 52/300\n",
      "338/338 [==============================] - 11s 32ms/step - loss: 0.0047 - accuracy: 0.9989 - val_loss: 0.0637 - val_accuracy: 0.9800\n",
      "Epoch 53/300\n",
      "338/338 [==============================] - 11s 32ms/step - loss: 0.0044 - accuracy: 0.9981 - val_loss: 0.0819 - val_accuracy: 0.9800\n",
      "Epoch 54/300\n",
      "338/338 [==============================] - 11s 31ms/step - loss: 0.0087 - accuracy: 0.9963 - val_loss: 0.0540 - val_accuracy: 0.9833\n",
      "Epoch 55/300\n",
      "338/338 [==============================] - 11s 32ms/step - loss: 0.0053 - accuracy: 0.9978 - val_loss: 0.0535 - val_accuracy: 0.9833\n",
      "Epoch 56/300\n",
      "338/338 [==============================] - 11s 32ms/step - loss: 0.0116 - accuracy: 0.9959 - val_loss: 0.0509 - val_accuracy: 0.9800\n",
      "Epoch 57/300\n"
     ]
    },
    {
     "name": "stdout",
     "output_type": "stream",
     "text": [
      "338/338 [==============================] - 11s 31ms/step - loss: 0.0054 - accuracy: 0.9981 - val_loss: 0.0598 - val_accuracy: 0.9833\n",
      "Epoch 58/300\n",
      "338/338 [==============================] - 11s 32ms/step - loss: 0.0096 - accuracy: 0.9981 - val_loss: 0.0577 - val_accuracy: 0.9900\n",
      "Epoch 59/300\n",
      "338/338 [==============================] - 12s 35ms/step - loss: 0.0034 - accuracy: 0.9981 - val_loss: 0.0454 - val_accuracy: 0.9833\n",
      "Epoch 60/300\n",
      "338/338 [==============================] - 11s 32ms/step - loss: 0.0040 - accuracy: 0.9981 - val_loss: 0.0706 - val_accuracy: 0.9800\n",
      "--- 644.4222147464752 seconds ---\n"
     ]
    }
   ],
   "source": [
    "start_time = time.time()\n",
    "history = model.fit(x_train, y_train, epochs = 300, batch_size = 8, verbose = 1,validation_data = (x_test, y_test), callbacks=[callback])\n",
    "print(\"--- %s seconds ---\" % (time.time() - start_time))"
   ]
  },
  {
   "cell_type": "markdown",
   "id": "b6f0f441",
   "metadata": {},
   "source": [
    "<h6>Some basic results recording, just for keeping information to hand</h6>\n",
    "\n",
    "30.509965896606445 seconds --- 30 epochs , 0.9683 acc , 16x16 Greyscale image <br>\n",
    "86.94418954849243 seconds --- 30 epochs , 0.9783 acc , 32x32 Greyscale image <br>\n",
    "169.6840739250183 seconds --- 60 epochs , 0.9667 acc , 32x32 Greyscale image <br>\n",
    "335.7380225658417 seconds --- 30 epochs , 0.9700 acc , 64x64 Greyscale image <br>\n"
   ]
  },
  {
   "cell_type": "code",
   "execution_count": 59,
   "id": "660a1c69",
   "metadata": {
    "scrolled": true
   },
   "outputs": [
    {
     "data": {
      "text/plain": [
       "{'loss': [0.7576987743377686,\n",
       "  0.3292331099510193,\n",
       "  0.23969227075576782,\n",
       "  0.21103911101818085,\n",
       "  0.18104632198810577,\n",
       "  0.16141533851623535,\n",
       "  0.14472611248493195,\n",
       "  0.13103416562080383,\n",
       "  0.10688211768865585,\n",
       "  0.10664375871419907,\n",
       "  0.08467413485050201,\n",
       "  0.0803106427192688,\n",
       "  0.0752265602350235,\n",
       "  0.07120727002620697,\n",
       "  0.05505141615867615,\n",
       "  0.055509503930807114,\n",
       "  0.06214575469493866,\n",
       "  0.05160576105117798,\n",
       "  0.043023329228162766,\n",
       "  0.03452669084072113,\n",
       "  0.03995125740766525,\n",
       "  0.038110047578811646,\n",
       "  0.031003421172499657,\n",
       "  0.026894180104136467,\n",
       "  0.038573723286390305,\n",
       "  0.02960056997835636,\n",
       "  0.025307323783636093,\n",
       "  0.01740870624780655,\n",
       "  0.018537625670433044,\n",
       "  0.01826857030391693,\n",
       "  0.020282190293073654,\n",
       "  0.017336884513497353,\n",
       "  0.016583295539021492,\n",
       "  0.02018897794187069,\n",
       "  0.015087105333805084,\n",
       "  0.019368402659893036,\n",
       "  0.013826824724674225,\n",
       "  0.016946813091635704,\n",
       "  0.008542112074792385,\n",
       "  0.006397400517016649,\n",
       "  0.011472092010080814,\n",
       "  0.006914051715284586,\n",
       "  0.01370628084987402,\n",
       "  0.014069188386201859,\n",
       "  0.016180183738470078,\n",
       "  0.007469309959560633,\n",
       "  0.006176271941512823,\n",
       "  0.008924986235797405,\n",
       "  0.0084520960226655,\n",
       "  0.007711287122219801,\n",
       "  0.008072391152381897,\n",
       "  0.004657810088247061,\n",
       "  0.004405168816447258,\n",
       "  0.008691721595823765,\n",
       "  0.005347659345716238,\n",
       "  0.011617861688137054,\n",
       "  0.00543327908962965,\n",
       "  0.009580347687005997,\n",
       "  0.0033682426437735558,\n",
       "  0.004006503615528345],\n",
       " 'accuracy': [0.8399999737739563,\n",
       "  0.886296272277832,\n",
       "  0.9037036895751953,\n",
       "  0.9103703498840332,\n",
       "  0.9274073839187622,\n",
       "  0.9381481409072876,\n",
       "  0.9374074339866638,\n",
       "  0.9440740942955017,\n",
       "  0.9540740847587585,\n",
       "  0.9540740847587585,\n",
       "  0.9655555486679077,\n",
       "  0.9681481719017029,\n",
       "  0.9733333587646484,\n",
       "  0.9696296453475952,\n",
       "  0.9788888692855835,\n",
       "  0.9807407259941101,\n",
       "  0.9748148322105408,\n",
       "  0.9844444394111633,\n",
       "  0.9833333492279053,\n",
       "  0.9881481528282166,\n",
       "  0.9848148226737976,\n",
       "  0.984074056148529,\n",
       "  0.9892592430114746,\n",
       "  0.9907407164573669,\n",
       "  0.9855555295944214,\n",
       "  0.9896296262741089,\n",
       "  0.9892592430114746,\n",
       "  0.9944444298744202,\n",
       "  0.9933333396911621,\n",
       "  0.9937037229537964,\n",
       "  0.9925925731658936,\n",
       "  0.9948148131370544,\n",
       "  0.9944444298744202,\n",
       "  0.9929629564285278,\n",
       "  0.9940740466117859,\n",
       "  0.9933333396911621,\n",
       "  0.9948148131370544,\n",
       "  0.992222249507904,\n",
       "  0.9977777600288391,\n",
       "  0.9985185265541077,\n",
       "  0.9962962865829468,\n",
       "  0.9970370531082153,\n",
       "  0.9951851963996887,\n",
       "  0.9948148131370544,\n",
       "  0.9940740466117859,\n",
       "  0.9974074363708496,\n",
       "  0.9970370531082153,\n",
       "  0.996666669845581,\n",
       "  0.9962962865829468,\n",
       "  0.996666669845581,\n",
       "  0.9959259033203125,\n",
       "  0.9988889098167419,\n",
       "  0.9981481432914734,\n",
       "  0.9962962865829468,\n",
       "  0.9977777600288391,\n",
       "  0.9959259033203125,\n",
       "  0.9981481432914734,\n",
       "  0.9981481432914734,\n",
       "  0.9981481432914734,\n",
       "  0.9981481432914734],\n",
       " 'val_loss': [0.14958934485912323,\n",
       "  0.14817708730697632,\n",
       "  0.14369934797286987,\n",
       "  0.14478996396064758,\n",
       "  0.10908801853656769,\n",
       "  0.08790252357721329,\n",
       "  0.09065592288970947,\n",
       "  0.08767307549715042,\n",
       "  0.10960224270820618,\n",
       "  0.10847661644220352,\n",
       "  0.12692956626415253,\n",
       "  0.09951885789632797,\n",
       "  0.07001128792762756,\n",
       "  0.0839151069521904,\n",
       "  0.08426433801651001,\n",
       "  0.08978776633739471,\n",
       "  0.07247496396303177,\n",
       "  0.06646684557199478,\n",
       "  0.06971494108438492,\n",
       "  0.053052958101034164,\n",
       "  0.06950245052576065,\n",
       "  0.05560340732336044,\n",
       "  0.051872603595256805,\n",
       "  0.0668584555387497,\n",
       "  0.06178166717290878,\n",
       "  0.07802022993564606,\n",
       "  0.0765271782875061,\n",
       "  0.04624270275235176,\n",
       "  0.060245584696531296,\n",
       "  0.050507888197898865,\n",
       "  0.06930600851774216,\n",
       "  0.061018962413072586,\n",
       "  0.060347530990839005,\n",
       "  0.04806001856923103,\n",
       "  0.05715204402804375,\n",
       "  0.05124446004629135,\n",
       "  0.05046379938721657,\n",
       "  0.0474567636847496,\n",
       "  0.051944371312856674,\n",
       "  0.036448169499635696,\n",
       "  0.04515596106648445,\n",
       "  0.062398381531238556,\n",
       "  0.04823078587651253,\n",
       "  0.07220513373613358,\n",
       "  0.05314786732196808,\n",
       "  0.05759561434388161,\n",
       "  0.07039041817188263,\n",
       "  0.0949598029255867,\n",
       "  0.07072024792432785,\n",
       "  0.06653152406215668,\n",
       "  0.0740780159831047,\n",
       "  0.06368053704500198,\n",
       "  0.08189370483160019,\n",
       "  0.05401913821697235,\n",
       "  0.05345118045806885,\n",
       "  0.05088259279727936,\n",
       "  0.0598241426050663,\n",
       "  0.057664934545755386,\n",
       "  0.04536354914307594,\n",
       "  0.07064642012119293],\n",
       " 'val_accuracy': [0.9333333373069763,\n",
       "  0.9266666769981384,\n",
       "  0.9333333373069763,\n",
       "  0.9200000166893005,\n",
       "  0.95333331823349,\n",
       "  0.9566666483879089,\n",
       "  0.95333331823349,\n",
       "  0.9599999785423279,\n",
       "  0.9633333086967468,\n",
       "  0.9366666674613953,\n",
       "  0.9466666579246521,\n",
       "  0.95333331823349,\n",
       "  0.9700000286102295,\n",
       "  0.9666666388511658,\n",
       "  0.9666666388511658,\n",
       "  0.9700000286102295,\n",
       "  0.9700000286102295,\n",
       "  0.9800000190734863,\n",
       "  0.9700000286102295,\n",
       "  0.9766666889190674,\n",
       "  0.9733333587646484,\n",
       "  0.9733333587646484,\n",
       "  0.9766666889190674,\n",
       "  0.9766666889190674,\n",
       "  0.9733333587646484,\n",
       "  0.9800000190734863,\n",
       "  0.9766666889190674,\n",
       "  0.9866666793823242,\n",
       "  0.9833333492279053,\n",
       "  0.9833333492279053,\n",
       "  0.9800000190734863,\n",
       "  0.9833333492279053,\n",
       "  0.9800000190734863,\n",
       "  0.9833333492279053,\n",
       "  0.9800000190734863,\n",
       "  0.9866666793823242,\n",
       "  0.9800000190734863,\n",
       "  0.9866666793823242,\n",
       "  0.9766666889190674,\n",
       "  0.9866666793823242,\n",
       "  0.9866666793823242,\n",
       "  0.9833333492279053,\n",
       "  0.9766666889190674,\n",
       "  0.9800000190734863,\n",
       "  0.9833333492279053,\n",
       "  0.9900000095367432,\n",
       "  0.9800000190734863,\n",
       "  0.9800000190734863,\n",
       "  0.9800000190734863,\n",
       "  0.9833333492279053,\n",
       "  0.9766666889190674,\n",
       "  0.9800000190734863,\n",
       "  0.9800000190734863,\n",
       "  0.9833333492279053,\n",
       "  0.9833333492279053,\n",
       "  0.9800000190734863,\n",
       "  0.9833333492279053,\n",
       "  0.9900000095367432,\n",
       "  0.9833333492279053,\n",
       "  0.9800000190734863]}"
      ]
     },
     "execution_count": 59,
     "metadata": {},
     "output_type": "execute_result"
    }
   ],
   "source": [
    "history.history"
   ]
  },
  {
   "cell_type": "code",
   "execution_count": 78,
   "id": "429cc38d",
   "metadata": {},
   "outputs": [
    {
     "data": {
      "image/png": "[encoded data removed]",
      "text/plain": [
       "<Figure size 432x288 with 1 Axes>"
      ]
     },
     "metadata": {
      "needs_background": "light"
     },
     "output_type": "display_data"
    }
   ],
   "source": [
    "plt.plot(history.history['val_accuracy'], label=\"test data accuracy\")\n",
    "plt.plot(history.history['accuracy'], label=\"train data accuracy\")\n",
    "plt.xlabel('Epoch')\n",
    "plt.ylabel('Accuracy (%)')\n",
    "plt.suptitle('Binary model')\n",
    "plt.title('Training data accuracy vs validation accuracy during training')\n",
    "ax = plt.gca()\n",
    "ax.set_xlim([-2, 60])\n",
    "ax.set_ylim([0.5, 1.05])\n",
    "plt.legend()\n",
    "plt.show()"
   ]
  },
  {
   "cell_type": "markdown",
   "id": "f6a3fe84",
   "metadata": {},
   "source": [
    "<h5>Read in the validation data in the same way we read in the training and testing data</h5>"
   ]
  },
  {
   "cell_type": "code",
   "execution_count": 61,
   "id": "2505357e",
   "metadata": {},
   "outputs": [],
   "source": [
    "img_reshape_size = (32,32)\n",
    "\n",
    "validation_data = []\n",
    "validation_result = []\n",
    "\n",
    "# path to non tumor files\n",
    "no_tumor_image_dir = \"test_dataset/test/split_data/binary/no_tumor\"\n",
    "no_tumor_files = os.listdir(no_tumor_image_dir)\n",
    "\n",
    "# path to tumor files\n",
    "tumor_image_dir = \"test_dataset/test/split_data/binary/tumor\"\n",
    "tumor_files = os.listdir(tumor_image_dir)\n",
    "\n",
    "test_encoder = OneHotEncoder()\n",
    "test_encoder.fit([[0], [1]]) \n",
    "\n",
    "for file in no_tumor_files:\n",
    "    temp_file_path = \"test_dataset/test/split_data/binary/no_tumor/\"+file\n",
    "    #print(\"path is \" +temp_file_path)\n",
    "    img = Image.open(temp_file_path).convert('L') # not an RGB image so import as greyscale\n",
    "    img = img.resize(img_reshape_size)\n",
    "    img = np.array(img)\n",
    "    validation_data.append(np.array(img))\n",
    "    validation_result.append(test_encoder.transform([[0]]).toarray())\n",
    "\n",
    "for file in tumor_files:\n",
    "    temp_file_path = \"test_dataset/test/split_data/binary/tumor/\"+file\n",
    "    img = Image.open(temp_file_path).convert('L')\n",
    "    img = img.resize(img_reshape_size)\n",
    "    img = np.array(img)\n",
    "    validation_data.append(np.array(img))\n",
    "    validation_result.append(test_encoder.transform([[1]]).toarray())   "
   ]
  },
  {
   "cell_type": "markdown",
   "id": "d21af695",
   "metadata": {},
   "source": [
    "<h5>reshape validation data</h5>"
   ]
  },
  {
   "cell_type": "code",
   "execution_count": 62,
   "id": "6797ca8a",
   "metadata": {},
   "outputs": [],
   "source": [
    "validation_data = np.array(validation_data)\n",
    "validation_result = np.array(validation_result)\n",
    "validation_result = validation_result.reshape(200,2)"
   ]
  },
  {
   "cell_type": "markdown",
   "id": "bb13b402",
   "metadata": {},
   "source": [
    "<h5>Get and print scores</h5>"
   ]
  },
  {
   "cell_type": "code",
   "execution_count": 63,
   "id": "11491ace",
   "metadata": {},
   "outputs": [],
   "source": [
    "scores = model.evaluate(validation_data, validation_result, verbose=10)"
   ]
  },
  {
   "cell_type": "code",
   "execution_count": 64,
   "id": "86949422",
   "metadata": {},
   "outputs": [
    {
     "name": "stdout",
     "output_type": "stream",
     "text": [
      "test loss: 0.08173271268606186\n",
      "test accuracy: 0.9800000190734863\n"
     ]
    }
   ],
   "source": [
    "print(\"test loss: \" + str(scores[0]))\n",
    "print(\"test accuracy: \" + str(scores[1]))"
   ]
  },
  {
   "cell_type": "code",
   "execution_count": 65,
   "id": "41e418b1",
   "metadata": {},
   "outputs": [],
   "source": [
    "predictions = model.predict(validation_data)"
   ]
  },
  {
   "cell_type": "code",
   "execution_count": 66,
   "id": "601fedd5",
   "metadata": {},
   "outputs": [
    {
     "data": {
      "text/plain": [
       "<sklearn.metrics._plot.roc_curve.RocCurveDisplay at 0x15e10713f70>"
      ]
     },
     "execution_count": 66,
     "metadata": {},
     "output_type": "execute_result"
    },
    {
     "data": {
      "image/png": "[encoded data removed]",
      "text/plain": [
       "<Figure size 432x288 with 1 Axes>"
      ]
     },
     "metadata": {
      "needs_background": "light"
     },
     "output_type": "display_data"
    }
   ],
   "source": [
    "RocCurveDisplay.from_predictions(np.argmax(validation_result, axis=1), np.max(predictions, axis=1)) "
   ]
  },
  {
   "cell_type": "code",
   "execution_count": 75,
   "id": "aaa2d6c7",
   "metadata": {},
   "outputs": [
    {
     "name": "stdout",
     "output_type": "stream",
     "text": [
      "26 1 0\n",
      "46 0 1\n",
      "62 0 1\n",
      "98 0 1\n"
     ]
    }
   ],
   "source": [
    "for i in range(len(validation_result)):\n",
    "    img = np.expand_dims(validation_data[i], axis = 0)\n",
    "    if (np.argmax(model.predict(img)) != np.argmax(validation_result[i])):\n",
    "        print(str(i),np.argmax(model.predict(img)) , np.argmax(validation_result[i]))"
   ]
  },
  {
   "cell_type": "code",
   "execution_count": null,
   "id": "f45ddde5",
   "metadata": {},
   "outputs": [],
   "source": [
    "np.argmax(validation_result, axis=1)"
   ]
  },
  {
   "cell_type": "code",
   "execution_count": null,
   "id": "2a6cef64",
   "metadata": {},
   "outputs": [],
   "source": [
    "fpr_keras, tpr_keras, thresholds_keras = roc_curve(np.argmax(validation_result, axis=1), np.argmax(predictions, axis=1))"
   ]
  },
  {
   "cell_type": "code",
   "execution_count": null,
   "id": "ef5e7fea",
   "metadata": {},
   "outputs": [],
   "source": [
    "auc_keras = auc(fpr_keras, tpr_keras)"
   ]
  },
  {
   "cell_type": "code",
   "execution_count": null,
   "id": "951deb3e",
   "metadata": {},
   "outputs": [],
   "source": [
    "np.argmax(validation_result, axis=1)"
   ]
  },
  {
   "cell_type": "code",
   "execution_count": null,
   "id": "eaf6de13",
   "metadata": {},
   "outputs": [],
   "source": [
    "np.max(predictions, axis=1)"
   ]
  },
  {
   "cell_type": "code",
   "execution_count": null,
   "id": "745c9a17",
   "metadata": {},
   "outputs": [],
   "source": []
  }
 ],
 "metadata": {
  "kernelspec": {
   "display_name": "Python 3 (ipykernel)",
   "language": "python",
   "name": "python3"
  },
  "language_info": {
   "codemirror_mode": {
    "name": "ipython",
    "version": 3
   },
   "file_extension": ".py",
   "mimetype": "text/x-python",
   "name": "python",
   "nbconvert_exporter": "python",
   "pygments_lexer": "ipython3",
   "version": "3.9.6"
  }
 },
 "nbformat": 4,
 "nbformat_minor": 5
}
