{
 "cells": [
  {
   "cell_type": "markdown",
   "id": "e0d557e5",
   "metadata": {},
   "source": [
    "<h5>Importing libraries</h5>"
   ]
  },
  {
   "cell_type": "code",
   "execution_count": 15,
   "id": "b4462fee",
   "metadata": {},
   "outputs": [],
   "source": [
    "# data handling\n",
    "import pandas as pd\n",
    "import numpy as np\n",
    "import os \n",
    "from PIL import Image\n",
    "\n",
    "# Machine learning (non deep learning)\n",
    "import sklearn\n",
    "from sklearn.linear_model import LogisticRegression\n",
    "from sklearn.model_selection import train_test_split\n",
    "from sklearn.preprocessing import OneHotEncoder \n",
    "from sklearn.metrics import auc\n",
    "from sklearn.metrics import roc_curve\n",
    "from sklearn.metrics import RocCurveDisplay\n",
    "\n",
    "\n",
    "# Deep learning\n",
    "import tensorflow as tf\n",
    "import keras\n",
    "from keras import layers\n",
    "from keras_preprocessing.image import ImageDataGenerator\n",
    "from keras.models import Sequential\n",
    "from keras.applications.vgg16 import VGG16, preprocess_input\n",
    "from keras.layers import Conv2D, MaxPooling2D, Flatten, Dense, Dropout, BatchNormalization\n",
    "\n",
    "# plotting\n",
    "import seaborn as sns\n",
    "import matplotlib.pyplot as plt\n",
    "\n",
    "# misc\n",
    "import time"
   ]
  },
  {
   "cell_type": "markdown",
   "id": "1625e2fa",
   "metadata": {},
   "source": [
    "<h5>Read in images into numpy arrays and record type of tumor with one hot encoder</h5>"
   ]
  },
  {
   "cell_type": "code",
   "execution_count": 16,
   "id": "d892ca2e",
   "metadata": {
    "scrolled": true
   },
   "outputs": [],
   "source": [
    "img_reshape_size = (128,128)\n",
    "\n",
    "data = []\n",
    "result = []\n",
    "\n",
    "encoder = OneHotEncoder()\n",
    "encoder.fit([[0], [1]]) \n",
    "\n",
    "# path to tumor files\n",
    "tumor_image_dir = \"dataset/split_data/binary/tumor\"\n",
    "tumor_files = os.listdir(tumor_image_dir)\n",
    "\n",
    "# path to non tumor files\n",
    "no_tumor_image_dir = \"dataset/split_data/binary/no_tumor\"\n",
    "no_tumor_files = os.listdir(no_tumor_image_dir)\n",
    "\n",
    "for file in tumor_files:\n",
    "    temp_file_path = \"dataset/split_data/binary/tumor/\"+file\n",
    "    img = Image.open(temp_file_path).convert('L')\n",
    "    img = img.resize(img_reshape_size)\n",
    "    img = np.array(img)\n",
    "    data.append(np.array(img))\n",
    "    result.append(encoder.transform([[1]]).toarray())\n",
    "        \n",
    "\n",
    "for file in no_tumor_files:\n",
    "    temp_file_path = \"dataset/split_data/binary/no_tumor/\"+file\n",
    "    img = Image.open(temp_file_path).convert('L')\n",
    "    img = img.resize(img_reshape_size)\n",
    "    img = np.array(img)\n",
    "    data.append(np.array(img))\n",
    "    result.append(encoder.transform([[0]]).toarray())"
   ]
  },
  {
   "cell_type": "markdown",
   "id": "0435ded4",
   "metadata": {},
   "source": [
    "<h5>Reshape data and split between test and train data</h5>"
   ]
  },
  {
   "cell_type": "code",
   "execution_count": 17,
   "id": "1bf006ab",
   "metadata": {},
   "outputs": [
    {
     "name": "stdout",
     "output_type": "stream",
     "text": [
      "(3000, 128, 128)\n"
     ]
    }
   ],
   "source": [
    "data = np.array(data)\n",
    "print(data.shape)\n",
    "\n",
    "result = np.array(result)\n",
    "result = result.reshape(3000,2)\n",
    "\n",
    "x_train,x_test,y_train,y_test = train_test_split(data, result, test_size=0.05, shuffle=True, random_state=0)"
   ]
  },
  {
   "cell_type": "markdown",
   "id": "eaf30598",
   "metadata": {},
   "source": [
    "<h5>Build the CNN model</h5>"
   ]
  },
  {
   "cell_type": "code",
   "execution_count": 18,
   "id": "7abb2af0",
   "metadata": {},
   "outputs": [
    {
     "name": "stdout",
     "output_type": "stream",
     "text": [
      "Model: \"sequential_1\"\n",
      "_________________________________________________________________\n",
      " Layer (type)                Output Shape              Param #   \n",
      "=================================================================\n",
      " conv2d_4 (Conv2D)           (None, 128, 128, 32)      160       \n",
      "                                                                 \n",
      " conv2d_5 (Conv2D)           (None, 128, 128, 32)      4128      \n",
      "                                                                 \n",
      " batch_normalization_2 (Batc  (None, 128, 128, 32)     128       \n",
      " hNormalization)                                                 \n",
      "                                                                 \n",
      " max_pooling2d_2 (MaxPooling  (None, 64, 64, 32)       0         \n",
      " 2D)                                                             \n",
      "                                                                 \n",
      " dropout_3 (Dropout)         (None, 64, 64, 32)        0         \n",
      "                                                                 \n",
      " conv2d_6 (Conv2D)           (None, 64, 64, 64)        8256      \n",
      "                                                                 \n",
      " conv2d_7 (Conv2D)           (None, 64, 64, 64)        16448     \n",
      "                                                                 \n",
      " batch_normalization_3 (Batc  (None, 64, 64, 64)       256       \n",
      " hNormalization)                                                 \n",
      "                                                                 \n",
      " max_pooling2d_3 (MaxPooling  (None, 32, 32, 64)       0         \n",
      " 2D)                                                             \n",
      "                                                                 \n",
      " dropout_4 (Dropout)         (None, 32, 32, 64)        0         \n",
      "                                                                 \n",
      " flatten_1 (Flatten)         (None, 65536)             0         \n",
      "                                                                 \n",
      " dense_2 (Dense)             (None, 512)               33554944  \n",
      "                                                                 \n",
      " dropout_5 (Dropout)         (None, 512)               0         \n",
      "                                                                 \n",
      " dense_3 (Dense)             (None, 2)                 1026      \n",
      "                                                                 \n",
      "=================================================================\n",
      "Total params: 33,585,346\n",
      "Trainable params: 33,585,154\n",
      "Non-trainable params: 192\n",
      "_________________________________________________________________\n",
      "None\n"
     ]
    }
   ],
   "source": [
    "callback = tf.keras.callbacks.EarlyStopping(monitor='val_accuracy', patience=10)\n",
    "\n",
    "model = Sequential()\n",
    "\n",
    "model.add(Conv2D(32, kernel_size=(2, 2), input_shape=(128, 128, 1), padding = 'Same'))\n",
    "model.add(Conv2D(32, kernel_size=(2, 2),  activation ='relu', padding = 'Same'))\n",
    "\n",
    "\n",
    "model.add(BatchNormalization())\n",
    "model.add(MaxPooling2D(pool_size=(2, 2)))\n",
    "model.add(Dropout(0.25))\n",
    "\n",
    "model.add(Conv2D(64, kernel_size = (2,2), activation ='relu', padding = 'Same'))\n",
    "model.add(Conv2D(64, kernel_size = (2,2), activation ='relu', padding = 'Same'))\n",
    "\n",
    "model.add(BatchNormalization())\n",
    "model.add(MaxPooling2D(pool_size=(2,2), strides=(2,2)))\n",
    "model.add(Dropout(0.25))\n",
    "\n",
    "model.add(Flatten())\n",
    "\n",
    "model.add(Dense(512, activation='relu'))\n",
    "model.add(Dropout(0.5))\n",
    "model.add(Dense(2, activation='softmax'))\n",
    "\n",
    "model.compile(loss = \"categorical_crossentropy\", optimizer='Adamax',  metrics = ['accuracy'])\n",
    "print(model.summary())"
   ]
  },
  {
   "cell_type": "markdown",
   "id": "998c1090",
   "metadata": {},
   "source": [
    "<h5>Train the model and record time to train</h5>"
   ]
  },
  {
   "cell_type": "code",
   "execution_count": 19,
   "id": "c9ecb8cd",
   "metadata": {
    "scrolled": false
   },
   "outputs": [
    {
     "name": "stdout",
     "output_type": "stream",
     "text": [
      "Epoch 1/300\n",
      "357/357 [==============================] - 59s 164ms/step - loss: 3.9171 - accuracy: 0.8530 - val_loss: 0.3845 - val_accuracy: 0.9200\n",
      "Epoch 2/300\n",
      "357/357 [==============================] - 59s 164ms/step - loss: 0.3733 - accuracy: 0.9182 - val_loss: 0.1875 - val_accuracy: 0.9400\n",
      "Epoch 3/300\n",
      "357/357 [==============================] - 58s 162ms/step - loss: 0.1628 - accuracy: 0.9470 - val_loss: 0.1292 - val_accuracy: 0.9533\n",
      "Epoch 4/300\n",
      "357/357 [==============================] - 58s 161ms/step - loss: 0.1282 - accuracy: 0.9607 - val_loss: 0.1203 - val_accuracy: 0.9600\n",
      "Epoch 5/300\n",
      "357/357 [==============================] - 57s 161ms/step - loss: 0.0861 - accuracy: 0.9719 - val_loss: 0.1586 - val_accuracy: 0.9533\n",
      "Epoch 6/300\n",
      "357/357 [==============================] - 58s 161ms/step - loss: 0.0635 - accuracy: 0.9744 - val_loss: 0.1472 - val_accuracy: 0.9667\n",
      "Epoch 7/300\n",
      "357/357 [==============================] - 58s 162ms/step - loss: 0.0511 - accuracy: 0.9793 - val_loss: 0.1306 - val_accuracy: 0.9667\n",
      "Epoch 8/300\n",
      "357/357 [==============================] - 59s 165ms/step - loss: 0.0795 - accuracy: 0.9772 - val_loss: 0.1313 - val_accuracy: 0.9600\n",
      "Epoch 9/300\n",
      "357/357 [==============================] - 61s 170ms/step - loss: 0.0417 - accuracy: 0.9877 - val_loss: 0.1759 - val_accuracy: 0.9600\n",
      "Epoch 10/300\n",
      "357/357 [==============================] - 61s 170ms/step - loss: 0.0335 - accuracy: 0.9898 - val_loss: 0.2161 - val_accuracy: 0.9533\n",
      "Epoch 11/300\n",
      "357/357 [==============================] - 61s 170ms/step - loss: 0.0236 - accuracy: 0.9909 - val_loss: 0.2180 - val_accuracy: 0.9667\n",
      "Epoch 12/300\n",
      "357/357 [==============================] - 62s 175ms/step - loss: 0.0075 - accuracy: 0.9972 - val_loss: 0.1430 - val_accuracy: 0.9600\n",
      "Epoch 13/300\n",
      "357/357 [==============================] - 61s 171ms/step - loss: 0.0102 - accuracy: 0.9965 - val_loss: 0.1483 - val_accuracy: 0.9733\n",
      "Epoch 14/300\n",
      "357/357 [==============================] - 61s 170ms/step - loss: 0.0221 - accuracy: 0.9947 - val_loss: 0.1190 - val_accuracy: 0.9667\n",
      "Epoch 15/300\n",
      "357/357 [==============================] - 61s 172ms/step - loss: 0.0291 - accuracy: 0.9940 - val_loss: 0.1792 - val_accuracy: 0.9667\n",
      "Epoch 16/300\n",
      "357/357 [==============================] - 61s 170ms/step - loss: 0.0192 - accuracy: 0.9937 - val_loss: 0.1795 - val_accuracy: 0.9733\n",
      "Epoch 17/300\n",
      "357/357 [==============================] - 61s 170ms/step - loss: 0.0124 - accuracy: 0.9965 - val_loss: 0.1724 - val_accuracy: 0.9733\n",
      "Epoch 18/300\n",
      "357/357 [==============================] - 63s 176ms/step - loss: 0.0115 - accuracy: 0.9968 - val_loss: 0.2190 - val_accuracy: 0.9667\n",
      "Epoch 19/300\n",
      "357/357 [==============================] - 63s 176ms/step - loss: 0.0142 - accuracy: 0.9958 - val_loss: 0.1685 - val_accuracy: 0.9667\n",
      "Epoch 20/300\n",
      "357/357 [==============================] - 61s 172ms/step - loss: 0.0170 - accuracy: 0.9965 - val_loss: 0.1488 - val_accuracy: 0.9667\n",
      "Epoch 21/300\n",
      "357/357 [==============================] - 61s 172ms/step - loss: 0.0121 - accuracy: 0.9958 - val_loss: 0.1872 - val_accuracy: 0.9667\n",
      "Epoch 22/300\n",
      "357/357 [==============================] - 62s 173ms/step - loss: 0.0045 - accuracy: 0.9982 - val_loss: 0.0993 - val_accuracy: 0.9733\n",
      "Epoch 23/300\n",
      "357/357 [==============================] - 62s 173ms/step - loss: 0.0025 - accuracy: 0.9989 - val_loss: 0.1115 - val_accuracy: 0.9733\n",
      "--- 1385.6935243606567 seconds ---\n"
     ]
    }
   ],
   "source": [
    "start_time = time.time()\n",
    "history = model.fit(x_train, y_train, epochs = 300, batch_size = 8, verbose = 1,validation_data = (x_test, y_test), callbacks=[callback])\n",
    "print(\"--- %s seconds ---\" % (time.time() - start_time))"
   ]
  },
  {
   "cell_type": "markdown",
   "id": "b6f0f441",
   "metadata": {},
   "source": [
    "<h6>Some basic results recording, just for keeping information to hand</h6>\n",
    "\n",
    "30.509965896606445 seconds --- 30 epochs , 0.9683 acc , 16x16 Greyscale image <br>\n",
    "86.94418954849243 seconds --- 30 epochs , 0.9783 acc , 32x32 Greyscale image <br>\n",
    "169.6840739250183 seconds --- 60 epochs , 0.9667 acc , 32x32 Greyscale image <br>\n",
    "335.7380225658417 seconds --- 30 epochs , 0.9700 acc , 64x64 Greyscale image <br>\n"
   ]
  },
  {
   "cell_type": "code",
   "execution_count": 20,
   "id": "660a1c69",
   "metadata": {
    "scrolled": true
   },
   "outputs": [
    {
     "data": {
      "text/plain": [
       "{'loss': [3.917060613632202,\n",
       "  0.3732874095439911,\n",
       "  0.16278763115406036,\n",
       "  0.12820938229560852,\n",
       "  0.08612233400344849,\n",
       "  0.0635099783539772,\n",
       "  0.05111237242817879,\n",
       "  0.07946643233299255,\n",
       "  0.04172676056623459,\n",
       "  0.033485788851976395,\n",
       "  0.023588037118315697,\n",
       "  0.007514500990509987,\n",
       "  0.010242031887173653,\n",
       "  0.022113295271992683,\n",
       "  0.02909870818257332,\n",
       "  0.019246796146035194,\n",
       "  0.012406307272613049,\n",
       "  0.011515042744576931,\n",
       "  0.014150172472000122,\n",
       "  0.01702846586704254,\n",
       "  0.01207013614475727,\n",
       "  0.004488413687795401,\n",
       "  0.0025373855605721474],\n",
       " 'accuracy': [0.8529824614524841,\n",
       "  0.9182456135749817,\n",
       "  0.9470175504684448,\n",
       "  0.9607017636299133,\n",
       "  0.9719298481941223,\n",
       "  0.9743859767913818,\n",
       "  0.9792982339859009,\n",
       "  0.9771929979324341,\n",
       "  0.9877192974090576,\n",
       "  0.9898245334625244,\n",
       "  0.9908772110939026,\n",
       "  0.9971929788589478,\n",
       "  0.9964912533760071,\n",
       "  0.9947368502616882,\n",
       "  0.9940350651741028,\n",
       "  0.9936842322349548,\n",
       "  0.9964912533760071,\n",
       "  0.996842086315155,\n",
       "  0.9957894682884216,\n",
       "  0.9964912533760071,\n",
       "  0.9957894682884216,\n",
       "  0.9982455968856812,\n",
       "  0.9989473819732666],\n",
       " 'val_loss': [0.38453438878059387,\n",
       "  0.1874912530183792,\n",
       "  0.12919360399246216,\n",
       "  0.120254747569561,\n",
       "  0.1586131900548935,\n",
       "  0.14719775319099426,\n",
       "  0.1306331604719162,\n",
       "  0.13131289184093475,\n",
       "  0.17586863040924072,\n",
       "  0.21610818803310394,\n",
       "  0.21804960072040558,\n",
       "  0.14299426972866058,\n",
       "  0.14828969538211823,\n",
       "  0.11897487938404083,\n",
       "  0.179242342710495,\n",
       "  0.17945094406604767,\n",
       "  0.172358438372612,\n",
       "  0.21896405518054962,\n",
       "  0.1684676706790924,\n",
       "  0.14878696203231812,\n",
       "  0.18719133734703064,\n",
       "  0.09926273673772812,\n",
       "  0.11153275519609451],\n",
       " 'val_accuracy': [0.9200000166893005,\n",
       "  0.9399999976158142,\n",
       "  0.95333331823349,\n",
       "  0.9599999785423279,\n",
       "  0.95333331823349,\n",
       "  0.9666666388511658,\n",
       "  0.9666666388511658,\n",
       "  0.9599999785423279,\n",
       "  0.9599999785423279,\n",
       "  0.95333331823349,\n",
       "  0.9666666388511658,\n",
       "  0.9599999785423279,\n",
       "  0.9733333587646484,\n",
       "  0.9666666388511658,\n",
       "  0.9666666388511658,\n",
       "  0.9733333587646484,\n",
       "  0.9733333587646484,\n",
       "  0.9666666388511658,\n",
       "  0.9666666388511658,\n",
       "  0.9666666388511658,\n",
       "  0.9666666388511658,\n",
       "  0.9733333587646484,\n",
       "  0.9733333587646484]}"
      ]
     },
     "execution_count": 20,
     "metadata": {},
     "output_type": "execute_result"
    }
   ],
   "source": [
    "history.history"
   ]
  },
  {
   "cell_type": "code",
   "execution_count": 21,
   "id": "429cc38d",
   "metadata": {},
   "outputs": [
    {
     "data": {
      "image/png": "[encoded data removed]",
      "text/plain": [
       "<Figure size 432x288 with 1 Axes>"
      ]
     },
     "metadata": {
      "needs_background": "light"
     },
     "output_type": "display_data"
    }
   ],
   "source": [
    "plt.plot(history.history['val_accuracy'], label=\"validation accuracy\")\n",
    "plt.plot(history.history['accuracy'], label=\"accuracy\")\n",
    "plt.xlabel('Epoch')\n",
    "plt.ylabel('Accuracy (%)')\n",
    "plt.suptitle('Binary model')\n",
    "plt.title('Training data accuracy vs validation accuracy during training')\n",
    "ax = plt.gca()\n",
    "ax.set_xlim([-2, 45])\n",
    "ax.set_ylim([0.5, 1.05])\n",
    "plt.legend()\n",
    "plt.show()"
   ]
  },
  {
   "cell_type": "markdown",
   "id": "f6a3fe84",
   "metadata": {},
   "source": [
    "<h5>Read in the validation data in the same way we read in the training and testing data</h5>"
   ]
  },
  {
   "cell_type": "code",
   "execution_count": 22,
   "id": "2505357e",
   "metadata": {},
   "outputs": [],
   "source": [
    "img_reshape_size = (128,128)\n",
    "\n",
    "validation_data = []\n",
    "validation_result = []\n",
    "\n",
    "# path to non tumor files\n",
    "no_tumor_image_dir = \"test_dataset/test/split_data/binary/no_tumor\"\n",
    "no_tumor_files = os.listdir(no_tumor_image_dir)\n",
    "\n",
    "# path to tumor files\n",
    "tumor_image_dir = \"test_dataset/test/split_data/binary/tumor\"\n",
    "tumor_files = os.listdir(tumor_image_dir)\n",
    "\n",
    "test_encoder = OneHotEncoder()\n",
    "test_encoder.fit([[0], [1]]) \n",
    "\n",
    "for file in no_tumor_files:\n",
    "    temp_file_path = \"test_dataset/test/split_data/binary/no_tumor/\"+file\n",
    "    #print(\"path is \" +temp_file_path)\n",
    "    img = Image.open(temp_file_path).convert('L') # not an RGB image so import as greyscale\n",
    "    img = img.resize(img_reshape_size)\n",
    "    img = np.array(img)\n",
    "    validation_data.append(np.array(img))\n",
    "    validation_result.append(test_encoder.transform([[0]]).toarray())\n",
    "\n",
    "for file in tumor_files:\n",
    "    temp_file_path = \"test_dataset/test/split_data/binary/tumor/\"+file\n",
    "    img = Image.open(temp_file_path).convert('L')\n",
    "    img = img.resize(img_reshape_size)\n",
    "    img = np.array(img)\n",
    "    validation_data.append(np.array(img))\n",
    "    validation_result.append(test_encoder.transform([[1]]).toarray())   "
   ]
  },
  {
   "cell_type": "markdown",
   "id": "d21af695",
   "metadata": {},
   "source": [
    "<h5>reshape validation data</h5>"
   ]
  },
  {
   "cell_type": "code",
   "execution_count": 23,
   "id": "6797ca8a",
   "metadata": {},
   "outputs": [],
   "source": [
    "validation_data = np.array(validation_data)\n",
    "validation_result = np.array(validation_result)\n",
    "validation_result = validation_result.reshape(200,2)"
   ]
  },
  {
   "cell_type": "markdown",
   "id": "bb13b402",
   "metadata": {},
   "source": [
    "<h5>Get and print scores</h5>"
   ]
  },
  {
   "cell_type": "code",
   "execution_count": 24,
   "id": "11491ace",
   "metadata": {},
   "outputs": [],
   "source": [
    "scores = model.evaluate(validation_data, validation_result, verbose=10)"
   ]
  },
  {
   "cell_type": "code",
   "execution_count": 25,
   "id": "86949422",
   "metadata": {},
   "outputs": [
    {
     "name": "stdout",
     "output_type": "stream",
     "text": [
      "test loss: 0.09666480123996735\n",
      "test accuracy: 0.9750000238418579\n"
     ]
    }
   ],
   "source": [
    "print(\"test loss: \" + str(scores[0]))\n",
    "print(\"test accuracy: \" + str(scores[1]))"
   ]
  },
  {
   "cell_type": "code",
   "execution_count": 26,
   "id": "41e418b1",
   "metadata": {},
   "outputs": [],
   "source": [
    "predictions = model.predict(validation_data)"
   ]
  },
  {
   "cell_type": "code",
   "execution_count": 27,
   "id": "601fedd5",
   "metadata": {},
   "outputs": [
    {
     "data": {
      "text/plain": [
       "<sklearn.metrics._plot.roc_curve.RocCurveDisplay at 0x15e63144160>"
      ]
     },
     "execution_count": 27,
     "metadata": {},
     "output_type": "execute_result"
    },
    {
     "data": {
      "image/png": "[encoded data removed]",
      "text/plain": [
       "<Figure size 432x288 with 1 Axes>"
      ]
     },
     "metadata": {
      "needs_background": "light"
     },
     "output_type": "display_data"
    }
   ],
   "source": [
    "RocCurveDisplay.from_predictions(np.argmax(validation_result, axis=1), np.max(predictions, axis=1)) "
   ]
  },
  {
   "cell_type": "code",
   "execution_count": 28,
   "id": "aaa2d6c7",
   "metadata": {},
   "outputs": [
    {
     "name": "stderr",
     "output_type": "stream",
     "text": [
      "c:\\users\\camer\\appdata\\local\\programs\\python\\python39\\lib\\site-packages\\sklearn\\utils\\deprecation.py:87: FutureWarning: Function plot_roc_curve is deprecated; Function `plot_roc_curve` is deprecated in 1.0 and will be removed in 1.2. Use one of the class methods: RocCurveDisplay.from_predictions or RocCurveDisplay.from_estimator.\n",
      "  warnings.warn(msg, category=FutureWarning)\n"
     ]
    },
    {
     "ename": "ValueError",
     "evalue": "Expected 'estimator' to be a binary classifier, but got Sequential",
     "output_type": "error",
     "traceback": [
      "\u001b[1;31m---------------------------------------------------------------------------\u001b[0m",
      "\u001b[1;31mValueError\u001b[0m                                Traceback (most recent call last)",
      "\u001b[1;32m~\\AppData\\Local\\Temp/ipykernel_10168/1902127890.py\u001b[0m in \u001b[0;36m<module>\u001b[1;34m\u001b[0m\n\u001b[1;32m----> 1\u001b[1;33m \u001b[0msklearn\u001b[0m\u001b[1;33m.\u001b[0m\u001b[0mmetrics\u001b[0m\u001b[1;33m.\u001b[0m\u001b[0mplot_roc_curve\u001b[0m\u001b[1;33m(\u001b[0m\u001b[0mmodel\u001b[0m\u001b[1;33m,\u001b[0m \u001b[0mvalidation_data\u001b[0m\u001b[1;33m,\u001b[0m \u001b[0mvalidation_result\u001b[0m\u001b[1;33m)\u001b[0m\u001b[1;33m\u001b[0m\u001b[1;33m\u001b[0m\u001b[0m\n\u001b[0m",
      "\u001b[1;32mc:\\users\\camer\\appdata\\local\\programs\\python\\python39\\lib\\site-packages\\sklearn\\utils\\deprecation.py\u001b[0m in \u001b[0;36mwrapped\u001b[1;34m(*args, **kwargs)\u001b[0m\n\u001b[0;32m     86\u001b[0m         \u001b[1;32mdef\u001b[0m \u001b[0mwrapped\u001b[0m\u001b[1;33m(\u001b[0m\u001b[1;33m*\u001b[0m\u001b[0margs\u001b[0m\u001b[1;33m,\u001b[0m \u001b[1;33m**\u001b[0m\u001b[0mkwargs\u001b[0m\u001b[1;33m)\u001b[0m\u001b[1;33m:\u001b[0m\u001b[1;33m\u001b[0m\u001b[1;33m\u001b[0m\u001b[0m\n\u001b[0;32m     87\u001b[0m             \u001b[0mwarnings\u001b[0m\u001b[1;33m.\u001b[0m\u001b[0mwarn\u001b[0m\u001b[1;33m(\u001b[0m\u001b[0mmsg\u001b[0m\u001b[1;33m,\u001b[0m \u001b[0mcategory\u001b[0m\u001b[1;33m=\u001b[0m\u001b[0mFutureWarning\u001b[0m\u001b[1;33m)\u001b[0m\u001b[1;33m\u001b[0m\u001b[1;33m\u001b[0m\u001b[0m\n\u001b[1;32m---> 88\u001b[1;33m             \u001b[1;32mreturn\u001b[0m \u001b[0mfun\u001b[0m\u001b[1;33m(\u001b[0m\u001b[1;33m*\u001b[0m\u001b[0margs\u001b[0m\u001b[1;33m,\u001b[0m \u001b[1;33m**\u001b[0m\u001b[0mkwargs\u001b[0m\u001b[1;33m)\u001b[0m\u001b[1;33m\u001b[0m\u001b[1;33m\u001b[0m\u001b[0m\n\u001b[0m\u001b[0;32m     89\u001b[0m \u001b[1;33m\u001b[0m\u001b[0m\n\u001b[0;32m     90\u001b[0m         \u001b[0mwrapped\u001b[0m\u001b[1;33m.\u001b[0m\u001b[0m__doc__\u001b[0m \u001b[1;33m=\u001b[0m \u001b[0mself\u001b[0m\u001b[1;33m.\u001b[0m\u001b[0m_update_doc\u001b[0m\u001b[1;33m(\u001b[0m\u001b[0mwrapped\u001b[0m\u001b[1;33m.\u001b[0m\u001b[0m__doc__\u001b[0m\u001b[1;33m)\u001b[0m\u001b[1;33m\u001b[0m\u001b[1;33m\u001b[0m\u001b[0m\n",
      "\u001b[1;32mc:\\users\\camer\\appdata\\local\\programs\\python\\python39\\lib\\site-packages\\sklearn\\metrics\\_plot\\roc_curve.py\u001b[0m in \u001b[0;36mplot_roc_curve\u001b[1;34m(estimator, X, y, sample_weight, drop_intermediate, response_method, name, ax, pos_label, **kwargs)\u001b[0m\n\u001b[0;32m    452\u001b[0m     \u001b[0mcheck_matplotlib_support\u001b[0m\u001b[1;33m(\u001b[0m\u001b[1;34m\"plot_roc_curve\"\u001b[0m\u001b[1;33m)\u001b[0m\u001b[1;33m\u001b[0m\u001b[1;33m\u001b[0m\u001b[0m\n\u001b[0;32m    453\u001b[0m \u001b[1;33m\u001b[0m\u001b[0m\n\u001b[1;32m--> 454\u001b[1;33m     y_pred, pos_label = _get_response(\n\u001b[0m\u001b[0;32m    455\u001b[0m         \u001b[0mX\u001b[0m\u001b[1;33m,\u001b[0m \u001b[0mestimator\u001b[0m\u001b[1;33m,\u001b[0m \u001b[0mresponse_method\u001b[0m\u001b[1;33m,\u001b[0m \u001b[0mpos_label\u001b[0m\u001b[1;33m=\u001b[0m\u001b[0mpos_label\u001b[0m\u001b[1;33m\u001b[0m\u001b[1;33m\u001b[0m\u001b[0m\n\u001b[0;32m    456\u001b[0m     )\n",
      "\u001b[1;32mc:\\users\\camer\\appdata\\local\\programs\\python\\python39\\lib\\site-packages\\sklearn\\metrics\\_plot\\base.py\u001b[0m in \u001b[0;36m_get_response\u001b[1;34m(X, estimator, response_method, pos_label)\u001b[0m\n\u001b[0;32m     87\u001b[0m \u001b[1;33m\u001b[0m\u001b[0m\n\u001b[0;32m     88\u001b[0m     \u001b[1;32mif\u001b[0m \u001b[1;32mnot\u001b[0m \u001b[0mis_classifier\u001b[0m\u001b[1;33m(\u001b[0m\u001b[0mestimator\u001b[0m\u001b[1;33m)\u001b[0m\u001b[1;33m:\u001b[0m\u001b[1;33m\u001b[0m\u001b[1;33m\u001b[0m\u001b[0m\n\u001b[1;32m---> 89\u001b[1;33m         \u001b[1;32mraise\u001b[0m \u001b[0mValueError\u001b[0m\u001b[1;33m(\u001b[0m\u001b[0mclassification_error\u001b[0m\u001b[1;33m)\u001b[0m\u001b[1;33m\u001b[0m\u001b[1;33m\u001b[0m\u001b[0m\n\u001b[0m\u001b[0;32m     90\u001b[0m \u001b[1;33m\u001b[0m\u001b[0m\n\u001b[0;32m     91\u001b[0m     \u001b[0mprediction_method\u001b[0m \u001b[1;33m=\u001b[0m \u001b[0m_check_classifier_response_method\u001b[0m\u001b[1;33m(\u001b[0m\u001b[0mestimator\u001b[0m\u001b[1;33m,\u001b[0m \u001b[0mresponse_method\u001b[0m\u001b[1;33m)\u001b[0m\u001b[1;33m\u001b[0m\u001b[1;33m\u001b[0m\u001b[0m\n",
      "\u001b[1;31mValueError\u001b[0m: Expected 'estimator' to be a binary classifier, but got Sequential"
     ]
    }
   ],
   "source": [
    "sklearn.metrics.plot_roc_curve(model, validation_data, validation_result) "
   ]
  },
  {
   "cell_type": "code",
   "execution_count": null,
   "id": "f45ddde5",
   "metadata": {},
   "outputs": [],
   "source": [
    "np.argmax(validation_result, axis=1)"
   ]
  },
  {
   "cell_type": "code",
   "execution_count": null,
   "id": "2a6cef64",
   "metadata": {},
   "outputs": [],
   "source": [
    "fpr_keras, tpr_keras, thresholds_keras = roc_curve(np.argmax(validation_result, axis=1), np.argmax(predictions, axis=1))"
   ]
  },
  {
   "cell_type": "code",
   "execution_count": null,
   "id": "ef5e7fea",
   "metadata": {},
   "outputs": [],
   "source": [
    "auc_keras = auc(fpr_keras, tpr_keras)"
   ]
  },
  {
   "cell_type": "code",
   "execution_count": null,
   "id": "951deb3e",
   "metadata": {},
   "outputs": [],
   "source": [
    "np.argmax(validation_result, axis=1)"
   ]
  },
  {
   "cell_type": "code",
   "execution_count": null,
   "id": "eaf6de13",
   "metadata": {},
   "outputs": [],
   "source": [
    "np.max(predictions, axis=1)"
   ]
  },
  {
   "cell_type": "code",
   "execution_count": null,
   "id": "745c9a17",
   "metadata": {},
   "outputs": [],
   "source": []
  }
 ],
 "metadata": {
  "kernelspec": {
   "display_name": "Python 3 (ipykernel)",
   "language": "python",
   "name": "python3"
  },
  "language_info": {
   "codemirror_mode": {
    "name": "ipython",
    "version": 3
   },
   "file_extension": ".py",
   "mimetype": "text/x-python",
   "name": "python",
   "nbconvert_exporter": "python",
   "pygments_lexer": "ipython3",
   "version": "3.9.6"
  }
 },
 "nbformat": 4,
 "nbformat_minor": 5
}
