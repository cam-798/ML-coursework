{
 "cells": [
  {
   "cell_type": "markdown",
   "id": "76b9ba03",
   "metadata": {},
   "source": [
    "<h3>Tumor only model<h3/>\n",
    "    \n",
    "<h5>This file was built to test the class imablance in the dataset, this removes the no tumor class to create 3 more balanced classes </h5>"
   ]
  },
  {
   "cell_type": "markdown",
   "id": "e0d557e5",
   "metadata": {},
   "source": [
    "<h5>Importing libraries</h5>"
   ]
  },
  {
   "cell_type": "code",
   "execution_count": 1,
   "id": "b4462fee",
   "metadata": {},
   "outputs": [],
   "source": [
    "#data handling\n",
    "import pandas as pd\n",
    "import numpy as np\n",
    "import os \n",
    "from PIL import Image\n",
    "\n",
    "# Machine learning (non deep learning)\n",
    "import sklearn\n",
    "from sklearn.linear_model import LogisticRegression\n",
    "from sklearn.model_selection import train_test_split\n",
    "from sklearn.preprocessing import OneHotEncoder \n",
    "\n",
    "# Deep learning\n",
    "import tensorflow as tf\n",
    "import keras\n",
    "from keras import layers\n",
    "from keras_preprocessing.image import ImageDataGenerator\n",
    "from keras.models import Sequential\n",
    "from keras.applications.vgg16 import VGG16, preprocess_input\n",
    "from keras.layers import Conv2D, MaxPooling2D, Flatten, Dense, Dropout, BatchNormalization\n",
    "\n",
    "# plotting\n",
    "import seaborn as sns\n",
    "import matplotlib.pyplot as plt\n",
    "\n",
    "# misc\n",
    "import time # for recording model training time"
   ]
  },
  {
   "cell_type": "markdown",
   "id": "1625e2fa",
   "metadata": {},
   "source": [
    "<h5>Read in images into numpy arrays and record type of tumor with one hot encoder</h5>"
   ]
  },
  {
   "cell_type": "code",
   "execution_count": 2,
   "id": "d892ca2e",
   "metadata": {
    "scrolled": true
   },
   "outputs": [
    {
     "name": "stdout",
     "output_type": "stream",
     "text": [
      "lengths of the tumors files\n",
      "length of meningioma tumor files 855\n",
      "length of glioma tumor files 860\n",
      "length of pitulitary tumor files 831\n",
      "total files is 2546\n"
     ]
    }
   ],
   "source": [
    "img_reshape_size = (32,32) \n",
    "\n",
    "data = []\n",
    "result = []\n",
    "\n",
    "encoder = OneHotEncoder()\n",
    "encoder.fit([[0], [1], [2]])  # 0 = meningioma tumor, 1 = glioma tumor , 2 = pitulitary tumor\n",
    "\n",
    "# path to meningioma files\n",
    "meningioma_image_dir = \"dataset/split_data/multi-class/meningioma_tumor\"\n",
    "meningioma_files = os.listdir(meningioma_image_dir)\n",
    "\n",
    "# path to glioma files\n",
    "glioma_image_dir = \"dataset/split_data/multi-class/glioma_tumor\"\n",
    "glioma_files = os.listdir(glioma_image_dir)\n",
    "\n",
    "# path to pitulitary files\n",
    "pitulitary_image_dir = \"dataset/split_data/multi-class/pitulitary_tumor\"\n",
    "pitulitary_files = os.listdir(pitulitary_image_dir)\n",
    "\n",
    "\n",
    "print(\"lengths of the tumors files\")\n",
    "print(\"length of meningioma tumor files \" + str(len(meningioma_files)))\n",
    "print(\"length of glioma tumor files \" + str(len(glioma_files)))\n",
    "print(\"length of pitulitary tumor files \" + str(len(pitulitary_files)))\n",
    "print(\"total files is \" + str(len(meningioma_files)+len(glioma_files)+len(pitulitary_files)))\n",
    "# should be 2546 files in total\n",
    "\n",
    "# could be looped to reduce amount of code\n",
    "\n",
    "## Meningioma tumor ## \n",
    "for file in meningioma_files:\n",
    "    temp_file_path = meningioma_image_dir + \"/\" + file # create the path to the image\n",
    "    img = Image.open(temp_file_path).convert('L') # read in the image\n",
    "    img = img.resize(img_reshape_size) # resize the image (512x512 takes far too long to train and reduced accuracy)\n",
    "    img = np.array(img) # put in np array\n",
    "    data.append(np.array(img)) # add to another array of images \n",
    "    result.append(encoder.transform([[0]]).toarray()) # add a 0 to the one hot encoder to represent the meningioma tumor\n",
    "       \n",
    "## Glioma tumor ##\n",
    "for file in glioma_files:\n",
    "    temp_file_path = glioma_image_dir + \"/\"  +file\n",
    "    img = Image.open(temp_file_path).convert('L')\n",
    "    img = img.resize(img_reshape_size)\n",
    "    img = np.array(img)\n",
    "    data.append(np.array(img))\n",
    "    result.append(encoder.transform([[1]]).toarray())\n",
    "        \n",
    "## Pitulitary tumor ##     \n",
    "for file in pitulitary_files:\n",
    "    temp_file_path = pitulitary_image_dir + \"/\"  +file\n",
    "    img = Image.open(temp_file_path).convert('L')\n",
    "    img = img.resize(img_reshape_size)\n",
    "    img = np.array(img)\n",
    "    data.append(np.array(img))\n",
    "    result.append(encoder.transform([[2]]).toarray())"
   ]
  },
  {
   "cell_type": "markdown",
   "id": "23878feb",
   "metadata": {},
   "source": [
    "<h5>Reshape data and split between test and train data</h5>"
   ]
  },
  {
   "cell_type": "code",
   "execution_count": 3,
   "id": "1bf006ab",
   "metadata": {},
   "outputs": [],
   "source": [
    "data = np.array(data) # put in numpy array for ease of use\n",
    "result = np.array(result) # put results in a numpy array for ease of use\n",
    "result = result.reshape(2546,3) # reshape data\n",
    "x_train,x_test,y_train,y_test = train_test_split(data, result, test_size=0.2, shuffle=True, random_state=0) # split into test train split"
   ]
  },
  {
   "cell_type": "markdown",
   "id": "54a6453e",
   "metadata": {},
   "source": [
    "<h5>Build the CNN model</h5>"
   ]
  },
  {
   "cell_type": "code",
   "execution_count": 4,
   "id": "7abb2af0",
   "metadata": {},
   "outputs": [],
   "source": [
    "callback = tf.keras.callbacks.EarlyStopping(monitor='val_loss', patience=10) # set the stopping criteria for the model\n",
    "\n",
    "model = Sequential() # define the model type\n",
    "\n",
    "model.add(Conv2D(32, kernel_size=(2, 2), input_shape=(32, 32, 1), padding = 'Same')) # set the input layer of the model\n",
    "model.add(Conv2D(32, kernel_size=(2, 2),  activation ='relu', padding = 'Same'))\n",
    "\n",
    "model.add(BatchNormalization())\n",
    "model.add(MaxPooling2D(pool_size=(2, 2)))\n",
    "model.add(Dropout(0.25)) \n",
    "\n",
    "model.add(Conv2D(64, kernel_size = (2,2), activation ='relu', padding = 'Same'))\n",
    "model.add(Conv2D(64, kernel_size = (2,2), activation ='relu', padding = 'Same'))\n",
    "\n",
    "model.add(BatchNormalization())\n",
    "model.add(MaxPooling2D(pool_size=(2,2), strides=(2,2)))\n",
    "model.add(Dropout(0.25))\n",
    "\n",
    "model.add(Flatten())\n",
    "\n",
    "model.add(Dense(512, activation='relu'))\n",
    "model.add(Dropout(0.5))\n",
    "model.add(Dense(3, activation='softmax')) # set output layer\n",
    "\n",
    "model.compile(loss = \"categorical_crossentropy\", optimizer='Adamax',  metrics = ['accuracy'])\n",
    "#print(model.summary())"
   ]
  },
  {
   "cell_type": "markdown",
   "id": "84488f0b",
   "metadata": {},
   "source": [
    "<h5>Train the model and record time to train</h5>"
   ]
  },
  {
   "cell_type": "code",
   "execution_count": 5,
   "id": "c9ecb8cd",
   "metadata": {
    "scrolled": true
   },
   "outputs": [
    {
     "name": "stdout",
     "output_type": "stream",
     "text": [
      "Epoch 1/300\n",
      "144/144 [==============================] - 4s 24ms/step - loss: 1.5672 - accuracy: 0.6137 - val_loss: 0.7931 - val_accuracy: 0.6706\n",
      "Epoch 2/300\n",
      "144/144 [==============================] - 3s 23ms/step - loss: 0.6927 - accuracy: 0.7163 - val_loss: 0.5066 - val_accuracy: 0.7922\n",
      "Epoch 3/300\n",
      "144/144 [==============================] - 3s 23ms/step - loss: 0.5857 - accuracy: 0.7573 - val_loss: 0.4266 - val_accuracy: 0.8157\n",
      "Epoch 4/300\n",
      "144/144 [==============================] - 3s 23ms/step - loss: 0.5244 - accuracy: 0.7791 - val_loss: 0.4040 - val_accuracy: 0.8275\n",
      "Epoch 5/300\n",
      "144/144 [==============================] - 3s 23ms/step - loss: 0.5067 - accuracy: 0.7717 - val_loss: 0.4149 - val_accuracy: 0.8275\n",
      "Epoch 6/300\n",
      "144/144 [==============================] - 3s 23ms/step - loss: 0.4408 - accuracy: 0.8075 - val_loss: 0.3884 - val_accuracy: 0.8471\n",
      "Epoch 7/300\n",
      "144/144 [==============================] - 3s 23ms/step - loss: 0.4047 - accuracy: 0.8267 - val_loss: 0.3611 - val_accuracy: 0.8392\n",
      "Epoch 8/300\n",
      "144/144 [==============================] - 4s 26ms/step - loss: 0.4264 - accuracy: 0.8162 - val_loss: 0.3286 - val_accuracy: 0.8431\n",
      "Epoch 9/300\n",
      "144/144 [==============================] - 4s 24ms/step - loss: 0.3954 - accuracy: 0.8276 - val_loss: 0.3599 - val_accuracy: 0.8392\n",
      "Epoch 10/300\n",
      "144/144 [==============================] - 3s 23ms/step - loss: 0.3465 - accuracy: 0.8525 - val_loss: 0.3328 - val_accuracy: 0.8588\n",
      "Epoch 11/300\n",
      "144/144 [==============================] - 3s 24ms/step - loss: 0.3267 - accuracy: 0.8651 - val_loss: 0.3044 - val_accuracy: 0.8510\n",
      "Epoch 12/300\n",
      "144/144 [==============================] - 4s 25ms/step - loss: 0.3055 - accuracy: 0.8717 - val_loss: 0.2919 - val_accuracy: 0.8627\n",
      "Epoch 13/300\n",
      "144/144 [==============================] - 3s 23ms/step - loss: 0.2782 - accuracy: 0.8874 - val_loss: 0.3138 - val_accuracy: 0.8471\n",
      "Epoch 14/300\n",
      "144/144 [==============================] - 3s 23ms/step - loss: 0.2719 - accuracy: 0.8979 - val_loss: 0.2257 - val_accuracy: 0.8941\n",
      "Epoch 15/300\n",
      "144/144 [==============================] - 3s 23ms/step - loss: 0.2410 - accuracy: 0.9070 - val_loss: 0.2518 - val_accuracy: 0.8902\n",
      "Epoch 16/300\n",
      "144/144 [==============================] - 3s 23ms/step - loss: 0.2190 - accuracy: 0.9114 - val_loss: 0.2599 - val_accuracy: 0.9020\n",
      "Epoch 17/300\n",
      "144/144 [==============================] - 3s 23ms/step - loss: 0.1890 - accuracy: 0.9236 - val_loss: 0.2143 - val_accuracy: 0.9216\n",
      "Epoch 18/300\n",
      "144/144 [==============================] - 3s 23ms/step - loss: 0.1842 - accuracy: 0.9280 - val_loss: 0.2194 - val_accuracy: 0.9176\n",
      "Epoch 19/300\n",
      "144/144 [==============================] - 3s 23ms/step - loss: 0.1851 - accuracy: 0.9332 - val_loss: 0.2050 - val_accuracy: 0.9255\n",
      "Epoch 20/300\n",
      "144/144 [==============================] - 3s 23ms/step - loss: 0.1540 - accuracy: 0.9437 - val_loss: 0.2149 - val_accuracy: 0.9176\n",
      "Epoch 21/300\n",
      "144/144 [==============================] - 3s 23ms/step - loss: 0.1397 - accuracy: 0.9494 - val_loss: 0.1673 - val_accuracy: 0.9490\n",
      "Epoch 22/300\n",
      "144/144 [==============================] - 3s 23ms/step - loss: 0.1491 - accuracy: 0.9411 - val_loss: 0.1923 - val_accuracy: 0.9294\n",
      "Epoch 23/300\n",
      "144/144 [==============================] - 3s 23ms/step - loss: 0.1372 - accuracy: 0.9511 - val_loss: 0.1839 - val_accuracy: 0.9412\n",
      "Epoch 24/300\n",
      "144/144 [==============================] - 3s 23ms/step - loss: 0.1190 - accuracy: 0.9520 - val_loss: 0.1575 - val_accuracy: 0.9294\n",
      "Epoch 25/300\n",
      "144/144 [==============================] - 3s 23ms/step - loss: 0.1234 - accuracy: 0.9555 - val_loss: 0.1718 - val_accuracy: 0.9451\n",
      "Epoch 26/300\n",
      "144/144 [==============================] - 3s 23ms/step - loss: 0.1227 - accuracy: 0.9502 - val_loss: 0.1540 - val_accuracy: 0.9412\n",
      "Epoch 27/300\n",
      "144/144 [==============================] - 3s 23ms/step - loss: 0.1029 - accuracy: 0.9577 - val_loss: 0.1639 - val_accuracy: 0.9608\n",
      "Epoch 28/300\n",
      "144/144 [==============================] - 3s 23ms/step - loss: 0.0937 - accuracy: 0.9638 - val_loss: 0.1857 - val_accuracy: 0.9412\n",
      "Epoch 29/300\n",
      "144/144 [==============================] - 3s 23ms/step - loss: 0.0831 - accuracy: 0.9725 - val_loss: 0.1829 - val_accuracy: 0.9373\n",
      "Epoch 30/300\n",
      "144/144 [==============================] - 3s 23ms/step - loss: 0.0896 - accuracy: 0.9703 - val_loss: 0.1764 - val_accuracy: 0.9490\n",
      "Epoch 31/300\n",
      "144/144 [==============================] - 3s 23ms/step - loss: 0.0834 - accuracy: 0.9712 - val_loss: 0.1553 - val_accuracy: 0.9490\n",
      "Epoch 32/300\n",
      "144/144 [==============================] - 3s 23ms/step - loss: 0.0757 - accuracy: 0.9699 - val_loss: 0.1509 - val_accuracy: 0.9490\n",
      "Epoch 33/300\n",
      "144/144 [==============================] - 3s 23ms/step - loss: 0.0652 - accuracy: 0.9756 - val_loss: 0.1501 - val_accuracy: 0.9608\n",
      "Epoch 34/300\n",
      "144/144 [==============================] - 3s 23ms/step - loss: 0.0806 - accuracy: 0.9686 - val_loss: 0.1607 - val_accuracy: 0.9529\n",
      "Epoch 35/300\n",
      "144/144 [==============================] - 3s 23ms/step - loss: 0.0554 - accuracy: 0.9821 - val_loss: 0.1409 - val_accuracy: 0.9529\n",
      "Epoch 36/300\n",
      "144/144 [==============================] - 3s 23ms/step - loss: 0.0600 - accuracy: 0.9773 - val_loss: 0.1475 - val_accuracy: 0.9569\n",
      "Epoch 37/300\n",
      "144/144 [==============================] - 3s 23ms/step - loss: 0.0622 - accuracy: 0.9764 - val_loss: 0.1428 - val_accuracy: 0.9569\n",
      "Epoch 38/300\n",
      "144/144 [==============================] - 3s 23ms/step - loss: 0.0618 - accuracy: 0.9769 - val_loss: 0.1327 - val_accuracy: 0.9647\n",
      "Epoch 39/300\n",
      "144/144 [==============================] - 3s 23ms/step - loss: 0.0610 - accuracy: 0.9786 - val_loss: 0.1316 - val_accuracy: 0.9608\n",
      "Epoch 40/300\n",
      "144/144 [==============================] - 3s 23ms/step - loss: 0.0508 - accuracy: 0.9808 - val_loss: 0.1279 - val_accuracy: 0.9647\n",
      "Epoch 41/300\n",
      "144/144 [==============================] - 3s 23ms/step - loss: 0.0525 - accuracy: 0.9821 - val_loss: 0.1028 - val_accuracy: 0.9686\n",
      "Epoch 42/300\n",
      "144/144 [==============================] - 3s 23ms/step - loss: 0.0434 - accuracy: 0.9860 - val_loss: 0.1399 - val_accuracy: 0.9686\n",
      "Epoch 43/300\n",
      "144/144 [==============================] - 3s 24ms/step - loss: 0.0429 - accuracy: 0.9865 - val_loss: 0.1429 - val_accuracy: 0.9569\n",
      "Epoch 44/300\n",
      "144/144 [==============================] - 3s 24ms/step - loss: 0.0616 - accuracy: 0.9747 - val_loss: 0.1238 - val_accuracy: 0.9529\n",
      "Epoch 45/300\n",
      "144/144 [==============================] - 3s 23ms/step - loss: 0.0498 - accuracy: 0.9804 - val_loss: 0.1766 - val_accuracy: 0.9608\n",
      "Epoch 46/300\n",
      "144/144 [==============================] - 4s 25ms/step - loss: 0.0509 - accuracy: 0.9821 - val_loss: 0.1588 - val_accuracy: 0.9490\n",
      "Epoch 47/300\n",
      "144/144 [==============================] - 4s 28ms/step - loss: 0.0384 - accuracy: 0.9873 - val_loss: 0.1144 - val_accuracy: 0.9765\n",
      "Epoch 48/300\n",
      "144/144 [==============================] - 4s 26ms/step - loss: 0.0333 - accuracy: 0.9873 - val_loss: 0.1366 - val_accuracy: 0.9608\n",
      "Epoch 49/300\n",
      "144/144 [==============================] - 4s 26ms/step - loss: 0.0325 - accuracy: 0.9878 - val_loss: 0.1310 - val_accuracy: 0.9686\n",
      "Epoch 50/300\n",
      "144/144 [==============================] - 4s 25ms/step - loss: 0.0348 - accuracy: 0.9869 - val_loss: 0.1279 - val_accuracy: 0.9608\n",
      "Epoch 51/300\n",
      "144/144 [==============================] - 4s 25ms/step - loss: 0.0417 - accuracy: 0.9856 - val_loss: 0.1081 - val_accuracy: 0.9647\n",
      "--- 173.50594115257263 seconds ---\n"
     ]
    }
   ],
   "source": [
    "start_time = time.time() # record time to train for comparison \n",
    "history = model.fit(x_train, y_train, epochs = 300, batch_size = 16, verbose=1, validation_data = (x_test, y_test), callbacks=[callback])\n",
    "print(\"--- %s seconds ---\" % (time.time() - start_time))"
   ]
  },
  {
   "cell_type": "markdown",
   "id": "be35524a",
   "metadata": {},
   "source": [
    "<h6>Some basic results recording, just for keeping information to hand</h6>\n",
    "\n",
    "94.34445095062256 seconds --- 30 epochs , 0.9033 acc , 32x32 RGB image (images are still in greyscale, just RGB format)\n",
    "\n",
    "343.3586163520813 seconds --- 30 epcohs , 0.9182 acc , 64x64 RGB image (images are still in greyscale, just RGB format)\n",
    "\n",
    "1364.8851137161255 seconds --- 30 epochs , 0.8950 acc , 128x128 Greyscale image\n",
    "\n",
    "313.81851744651794 seconds --- 30 epochs , 0.8750 acc , 64x64 Greyscale image\n",
    "\n",
    "87.09897923469543 seconds --- 30 epochs , 0.8833 acc , 32x32 Greyscale image\n",
    "\n",
    "31.2696533203125 seconds --- 30 epochs , 0.8200 acc , 16x16 Greyscale image\n",
    "\n",
    "183.15469479560852 seconds --- 60 epochs , 0.9117 acc , 32x32 Greyscale image"
   ]
  },
  {
   "cell_type": "code",
   "execution_count": 11,
   "id": "c16d4737",
   "metadata": {},
   "outputs": [
    {
     "data": {
      "image/png": "[encoded data removed]",
      "text/plain": [
       "<Figure size 432x288 with 1 Axes>"
      ]
     },
     "metadata": {
      "needs_background": "light"
     },
     "output_type": "display_data"
    }
   ],
   "source": [
    "plt.plot(history.history['val_accuracy'], label=\"validation accuracy\")\n",
    "plt.plot(history.history['accuracy'], label=\"accuracy\")\n",
    "plt.xlabel('Epoch')\n",
    "plt.ylabel('Accuracy (%)')\n",
    "plt.suptitle('tumor only model')\n",
    "plt.title('Training data accuracy vs validation accuracy during training')\n",
    "ax = plt.gca()\n",
    "ax.set_xlim([-2, 75])\n",
    "ax.set_ylim([0.5, 1.05])\n",
    "plt.legend()\n",
    "plt.show()"
   ]
  },
  {
   "cell_type": "markdown",
   "id": "ee1d7466",
   "metadata": {},
   "source": [
    "<h5>Read in the validation data in the same way we read in the training and testing data but wihtout the no tumor class</h5>"
   ]
  },
  {
   "cell_type": "code",
   "execution_count": 7,
   "id": "7eda74d3",
   "metadata": {},
   "outputs": [
    {
     "name": "stdout",
     "output_type": "stream",
     "text": [
      "length of validation data: 163\n"
     ]
    }
   ],
   "source": [
    "#img_reshape_size = (32,32) alreadly set higher up\n",
    "\n",
    "validation_data = []\n",
    "validation_result = []\n",
    "\n",
    "encoder = OneHotEncoder()\n",
    "encoder.fit([[0], [1], [2]]) \n",
    "\n",
    "# path to meningioma files\n",
    "meningioma_image_dir = \"test_dataset/test/split_data/multi-class/meningioma_tumor\"\n",
    "meningioma_files = os.listdir(meningioma_image_dir)\n",
    "\n",
    "# path to glioma files\n",
    "glioma_image_dir = \"test_dataset/test/split_data/multi-class/glioma_tumor\"\n",
    "glioma_files = os.listdir(glioma_image_dir)\n",
    "\n",
    "# path to pitulitary files\n",
    "pitulitary_image_dir = \"test_dataset/test/split_data/multi-class/pitulitary_tumor\"\n",
    "pitulitary_files = os.listdir(pitulitary_image_dir)\n",
    "\n",
    "\n",
    "for file in meningioma_files:\n",
    "    temp_file_path = meningioma_image_dir + \"/\" + file\n",
    "    img = Image.open(temp_file_path).convert('L')\n",
    "    img = img.resize(img_reshape_size)\n",
    "    img = np.array(img)\n",
    "    validation_data.append(np.array(img))\n",
    "    validation_result.append(encoder.transform([[0]]).toarray())\n",
    "        \n",
    "for file in glioma_files:\n",
    "    temp_file_path = glioma_image_dir + \"/\"  +file\n",
    "    img = Image.open(temp_file_path).convert('L')\n",
    "    img = img.resize(img_reshape_size)\n",
    "    img = np.array(img)\n",
    "    validation_data.append(np.array(img))\n",
    "    validation_result.append(encoder.transform([[1]]).toarray())\n",
    "        \n",
    "        \n",
    "for file in pitulitary_files:\n",
    "    temp_file_path = pitulitary_image_dir + \"/\"  +file\n",
    "    img = Image.open(temp_file_path).convert('L')\n",
    "    img = img.resize(img_reshape_size)\n",
    "    img = np.array(img)\n",
    "    validation_data.append(np.array(img))\n",
    "    validation_result.append(encoder.transform([[2]]).toarray())\n",
    "    \n",
    "\n",
    "print(\"length of validation data: \" + str(len(meningioma_files)+len(glioma_files)+len(pitulitary_files)))"
   ]
  },
  {
   "cell_type": "markdown",
   "id": "e1996edf",
   "metadata": {},
   "source": [
    "<h5>reshape validation data</h5>"
   ]
  },
  {
   "cell_type": "code",
   "execution_count": 8,
   "id": "27f62d61",
   "metadata": {},
   "outputs": [],
   "source": [
    "validation_data = np.array(validation_data)\n",
    "validation_result = np.array(validation_result)\n",
    "validation_result = validation_result.reshape(163,3)"
   ]
  },
  {
   "cell_type": "markdown",
   "id": "c6423c5a",
   "metadata": {},
   "source": [
    "<h5>Get and print scores</h5>"
   ]
  },
  {
   "cell_type": "code",
   "execution_count": 9,
   "id": "c9a1f57c",
   "metadata": {},
   "outputs": [],
   "source": [
    "scores = model.evaluate(validation_data, validation_result, verbose=10)"
   ]
  },
  {
   "cell_type": "code",
   "execution_count": 10,
   "id": "ec753bfa",
   "metadata": {},
   "outputs": [
    {
     "name": "stdout",
     "output_type": "stream",
     "text": [
      "test loss: 0.1848827600479126\n",
      "test accuracy: 0.9509202241897583\n"
     ]
    }
   ],
   "source": [
    "print(\"test loss: \" + str(scores[0]))\n",
    "print(\"test accuracy: \" + str(scores[1]))"
   ]
  }
 ],
 "metadata": {
  "kernelspec": {
   "display_name": "Python 3 (ipykernel)",
   "language": "python",
   "name": "python3"
  },
  "language_info": {
   "codemirror_mode": {
    "name": "ipython",
    "version": 3
   },
   "file_extension": ".py",
   "mimetype": "text/x-python",
   "name": "python",
   "nbconvert_exporter": "python",
   "pygments_lexer": "ipython3",
   "version": "3.9.6"
  }
 },
 "nbformat": 4,
 "nbformat_minor": 5
}
