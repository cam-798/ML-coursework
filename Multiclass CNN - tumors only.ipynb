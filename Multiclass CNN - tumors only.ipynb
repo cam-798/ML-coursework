{
 "cells": [
  {
   "cell_type": "markdown",
   "id": "76b9ba03",
   "metadata": {},
   "source": [
    "<h3>Tumor only model<h3/>\n",
    "    \n",
    "<h5>This file was built to test the class imablance in the dataset, this removes the no tumor class to create 3 more balanced classes </h5>"
   ]
  },
  {
   "cell_type": "markdown",
   "id": "e0d557e5",
   "metadata": {},
   "source": [
    "<h5>Importing libraries</h5>"
   ]
  },
  {
   "cell_type": "code",
   "execution_count": 1,
   "id": "b4462fee",
   "metadata": {},
   "outputs": [],
   "source": [
    "#data handling\n",
    "import pandas as pd\n",
    "import numpy as np\n",
    "import os \n",
    "from PIL import Image\n",
    "\n",
    "# Machine learning (non deep learning)\n",
    "import sklearn\n",
    "from sklearn.linear_model import LogisticRegression\n",
    "from sklearn.model_selection import train_test_split\n",
    "from sklearn.preprocessing import OneHotEncoder \n",
    "\n",
    "# Deep learning\n",
    "import tensorflow as tf\n",
    "import keras\n",
    "from keras import layers\n",
    "from keras_preprocessing.image import ImageDataGenerator\n",
    "from keras.models import Sequential\n",
    "from keras.applications.vgg16 import VGG16, preprocess_input\n",
    "from keras.layers import Conv2D, MaxPooling2D, Flatten, Dense, Dropout, BatchNormalization\n",
    "\n",
    "# plotting\n",
    "import seaborn as sns\n",
    "import matplotlib.pyplot as plt\n",
    "\n",
    "# misc\n",
    "import time # for recording model training time"
   ]
  },
  {
   "cell_type": "markdown",
   "id": "1625e2fa",
   "metadata": {},
   "source": [
    "<h5>Read in images into numpy arrays and record type of tumor with one hot encoder</h5>"
   ]
  },
  {
   "cell_type": "code",
   "execution_count": 2,
   "id": "d892ca2e",
   "metadata": {
    "scrolled": true
   },
   "outputs": [
    {
     "name": "stdout",
     "output_type": "stream",
     "text": [
      "lengths of the tumors files\n",
      "length of meningioma tumor files 855\n",
      "length of glioma tumor files 860\n",
      "length of pitulitary tumor files 831\n",
      "total files is 2546\n"
     ]
    }
   ],
   "source": [
    "img_reshape_size = (32,32) \n",
    "\n",
    "data = []\n",
    "result = []\n",
    "\n",
    "encoder = OneHotEncoder()\n",
    "encoder.fit([[0], [1], [2]])  # 0 = meningioma tumor, 1 = glioma tumor , 2 = pitulitary tumor\n",
    "\n",
    "# path to meningioma files\n",
    "meningioma_image_dir = \"dataset/split_data/multi-class/meningioma_tumor\"\n",
    "meningioma_files = os.listdir(meningioma_image_dir)\n",
    "\n",
    "# path to glioma files\n",
    "glioma_image_dir = \"dataset/split_data/multi-class/glioma_tumor\"\n",
    "glioma_files = os.listdir(glioma_image_dir)\n",
    "\n",
    "# path to pitulitary files\n",
    "pitulitary_image_dir = \"dataset/split_data/multi-class/pitulitary_tumor\"\n",
    "pitulitary_files = os.listdir(pitulitary_image_dir)\n",
    "\n",
    "\n",
    "print(\"lengths of the tumors files\")\n",
    "print(\"length of meningioma tumor files \" + str(len(meningioma_files)))\n",
    "print(\"length of glioma tumor files \" + str(len(glioma_files)))\n",
    "print(\"length of pitulitary tumor files \" + str(len(pitulitary_files)))\n",
    "print(\"total files is \" + str(len(meningioma_files)+len(glioma_files)+len(pitulitary_files)))\n",
    "# should be 2546 files in total\n",
    "\n",
    "# could be looped to reduce amount of code\n",
    "\n",
    "## Meningioma tumor ## \n",
    "for file in meningioma_files:\n",
    "    temp_file_path = meningioma_image_dir + \"/\" + file # create the path to the image\n",
    "    img = Image.open(temp_file_path).convert('L') # read in the image\n",
    "    img = img.resize(img_reshape_size) # resize the image (512x512 takes far too long to train and reduced accuracy)\n",
    "    img = np.array(img) # put in np array\n",
    "    data.append(np.array(img)) # add to another array of images \n",
    "    result.append(encoder.transform([[0]]).toarray()) # add a 0 to the one hot encoder to represent the meningioma tumor\n",
    "       \n",
    "## Glioma tumor ##\n",
    "for file in glioma_files:\n",
    "    temp_file_path = glioma_image_dir + \"/\"  +file\n",
    "    img = Image.open(temp_file_path).convert('L')\n",
    "    img = img.resize(img_reshape_size)\n",
    "    img = np.array(img)\n",
    "    data.append(np.array(img))\n",
    "    result.append(encoder.transform([[1]]).toarray())\n",
    "        \n",
    "## Pitulitary tumor ##     \n",
    "for file in pitulitary_files:\n",
    "    temp_file_path = pitulitary_image_dir + \"/\"  +file\n",
    "    img = Image.open(temp_file_path).convert('L')\n",
    "    img = img.resize(img_reshape_size)\n",
    "    img = np.array(img)\n",
    "    data.append(np.array(img))\n",
    "    result.append(encoder.transform([[2]]).toarray())"
   ]
  },
  {
   "cell_type": "markdown",
   "id": "23878feb",
   "metadata": {},
   "source": [
    "<h5>Reshape data and split between test and train data</h5>"
   ]
  },
  {
   "cell_type": "code",
   "execution_count": 3,
   "id": "1bf006ab",
   "metadata": {},
   "outputs": [],
   "source": [
    "data = np.array(data) # put in numpy array for ease of use\n",
    "result = np.array(result) # put results in a numpy array for ease of use\n",
    "result = result.reshape(2546,3) # reshape data\n",
    "x_train,x_test,y_train,y_test = train_test_split(data, result, test_size=0.2, shuffle=True, random_state=0) # split into test train split"
   ]
  },
  {
   "cell_type": "markdown",
   "id": "54a6453e",
   "metadata": {},
   "source": [
    "<h5>Build the CNN model</h5>"
   ]
  },
  {
   "cell_type": "code",
   "execution_count": 16,
   "id": "7abb2af0",
   "metadata": {},
   "outputs": [],
   "source": [
    "callback = tf.keras.callbacks.EarlyStopping(monitor='val_loss', patience=20) # set the stopping criteria for the model\n",
    "\n",
    "model = Sequential() # define the model type\n",
    "\n",
    "model.add(Conv2D(32, kernel_size=(2, 2), input_shape=(32, 32, 1), padding = 'Same')) # set the input layer of the model\n",
    "model.add(Conv2D(32, kernel_size=(2, 2),  activation ='relu', padding = 'Same'))\n",
    "\n",
    "model.add(BatchNormalization())\n",
    "model.add(MaxPooling2D(pool_size=(2, 2)))\n",
    "model.add(Dropout(0.25)) \n",
    "\n",
    "model.add(Conv2D(64, kernel_size = (2,2), activation ='relu', padding = 'Same'))\n",
    "model.add(Conv2D(64, kernel_size = (2,2), activation ='relu', padding = 'Same'))\n",
    "\n",
    "model.add(BatchNormalization())\n",
    "model.add(MaxPooling2D(pool_size=(2,2), strides=(2,2)))\n",
    "model.add(Dropout(0.25))\n",
    "\n",
    "model.add(Flatten())\n",
    "\n",
    "model.add(Dense(512, activation='relu'))\n",
    "model.add(Dropout(0.5))\n",
    "model.add(Dense(3, activation='softmax')) # set output layer\n",
    "\n",
    "model.compile(loss = \"categorical_crossentropy\", optimizer='Adamax',  metrics = ['accuracy'])\n",
    "#print(model.summary())"
   ]
  },
  {
   "cell_type": "markdown",
   "id": "84488f0b",
   "metadata": {},
   "source": [
    "<h5>Train the model and record time to train</h5>"
   ]
  },
  {
   "cell_type": "code",
   "execution_count": 17,
   "id": "c9ecb8cd",
   "metadata": {
    "scrolled": true
   },
   "outputs": [
    {
     "name": "stdout",
     "output_type": "stream",
     "text": [
      "Epoch 1/300\n",
      "287/287 [==============================] - 10s 31ms/step - loss: 1.5357 - accuracy: 0.6089 - val_loss: 0.5283 - val_accuracy: 0.7843\n",
      "Epoch 2/300\n",
      "287/287 [==============================] - 8s 29ms/step - loss: 0.6888 - accuracy: 0.7006 - val_loss: 0.5117 - val_accuracy: 0.7922\n",
      "Epoch 3/300\n",
      "287/287 [==============================] - 8s 28ms/step - loss: 0.5942 - accuracy: 0.7455 - val_loss: 0.4563 - val_accuracy: 0.8314\n",
      "Epoch 4/300\n",
      "287/287 [==============================] - 9s 30ms/step - loss: 0.5212 - accuracy: 0.7918 - val_loss: 0.4681 - val_accuracy: 0.8039\n",
      "Epoch 5/300\n",
      "287/287 [==============================] - 9s 31ms/step - loss: 0.4769 - accuracy: 0.7957 - val_loss: 0.3950 - val_accuracy: 0.8078\n",
      "Epoch 6/300\n",
      "287/287 [==============================] - 9s 31ms/step - loss: 0.4315 - accuracy: 0.8215 - val_loss: 0.3609 - val_accuracy: 0.8431\n",
      "Epoch 7/300\n",
      "287/287 [==============================] - 9s 30ms/step - loss: 0.4232 - accuracy: 0.8175 - val_loss: 0.3873 - val_accuracy: 0.8471\n",
      "Epoch 8/300\n",
      "287/287 [==============================] - 9s 30ms/step - loss: 0.3889 - accuracy: 0.8372 - val_loss: 0.3462 - val_accuracy: 0.8510\n",
      "Epoch 9/300\n",
      "287/287 [==============================] - 9s 31ms/step - loss: 0.3507 - accuracy: 0.8507 - val_loss: 0.3195 - val_accuracy: 0.8706\n",
      "Epoch 10/300\n",
      "287/287 [==============================] - 10s 33ms/step - loss: 0.3034 - accuracy: 0.8739 - val_loss: 0.2778 - val_accuracy: 0.8627\n",
      "Epoch 11/300\n",
      "287/287 [==============================] - 10s 36ms/step - loss: 0.2779 - accuracy: 0.8878 - val_loss: 0.2899 - val_accuracy: 0.8706\n",
      "Epoch 12/300\n",
      "287/287 [==============================] - 9s 32ms/step - loss: 0.2682 - accuracy: 0.8939 - val_loss: 0.2994 - val_accuracy: 0.8863\n",
      "Epoch 13/300\n",
      "287/287 [==============================] - 9s 32ms/step - loss: 0.2661 - accuracy: 0.8874 - val_loss: 0.2751 - val_accuracy: 0.8941\n",
      "Epoch 14/300\n",
      "287/287 [==============================] - 9s 31ms/step - loss: 0.2102 - accuracy: 0.9188 - val_loss: 0.2179 - val_accuracy: 0.9098\n",
      "Epoch 15/300\n",
      "287/287 [==============================] - 11s 37ms/step - loss: 0.1982 - accuracy: 0.9206 - val_loss: 0.2904 - val_accuracy: 0.9059\n",
      "Epoch 16/300\n",
      "287/287 [==============================] - 9s 30ms/step - loss: 0.1781 - accuracy: 0.9289 - val_loss: 0.2076 - val_accuracy: 0.9255\n",
      "Epoch 17/300\n",
      "287/287 [==============================] - 9s 30ms/step - loss: 0.1774 - accuracy: 0.9354 - val_loss: 0.1966 - val_accuracy: 0.9255\n",
      "Epoch 18/300\n",
      "287/287 [==============================] - 8s 29ms/step - loss: 0.1757 - accuracy: 0.9332 - val_loss: 0.2017 - val_accuracy: 0.9255\n",
      "Epoch 19/300\n",
      "287/287 [==============================] - 8s 29ms/step - loss: 0.1432 - accuracy: 0.9467 - val_loss: 0.2069 - val_accuracy: 0.9216\n",
      "Epoch 20/300\n",
      "287/287 [==============================] - 8s 29ms/step - loss: 0.1486 - accuracy: 0.9463 - val_loss: 0.1836 - val_accuracy: 0.9412\n",
      "Epoch 21/300\n",
      "287/287 [==============================] - 8s 29ms/step - loss: 0.1341 - accuracy: 0.9463 - val_loss: 0.2337 - val_accuracy: 0.9255\n",
      "Epoch 22/300\n",
      "287/287 [==============================] - 8s 29ms/step - loss: 0.1196 - accuracy: 0.9529 - val_loss: 0.2245 - val_accuracy: 0.9216\n",
      "Epoch 23/300\n",
      "287/287 [==============================] - 8s 29ms/step - loss: 0.1062 - accuracy: 0.9620 - val_loss: 0.1717 - val_accuracy: 0.9451\n",
      "Epoch 24/300\n",
      "287/287 [==============================] - 8s 29ms/step - loss: 0.1018 - accuracy: 0.9625 - val_loss: 0.1574 - val_accuracy: 0.9412\n",
      "Epoch 25/300\n",
      "287/287 [==============================] - 8s 30ms/step - loss: 0.1031 - accuracy: 0.9607 - val_loss: 0.1603 - val_accuracy: 0.9373\n",
      "Epoch 26/300\n",
      "287/287 [==============================] - 9s 31ms/step - loss: 0.0923 - accuracy: 0.9660 - val_loss: 0.1669 - val_accuracy: 0.9412\n",
      "Epoch 27/300\n",
      "287/287 [==============================] - 9s 33ms/step - loss: 0.0987 - accuracy: 0.9629 - val_loss: 0.1728 - val_accuracy: 0.9451\n",
      "Epoch 28/300\n",
      "287/287 [==============================] - 9s 30ms/step - loss: 0.0841 - accuracy: 0.9712 - val_loss: 0.1339 - val_accuracy: 0.9647\n",
      "Epoch 29/300\n",
      "287/287 [==============================] - 9s 30ms/step - loss: 0.0834 - accuracy: 0.9681 - val_loss: 0.1792 - val_accuracy: 0.9412\n",
      "Epoch 30/300\n",
      "287/287 [==============================] - 9s 30ms/step - loss: 0.0800 - accuracy: 0.9729 - val_loss: 0.1403 - val_accuracy: 0.9608\n",
      "Epoch 31/300\n",
      "287/287 [==============================] - 10s 34ms/step - loss: 0.0667 - accuracy: 0.9734 - val_loss: 0.1268 - val_accuracy: 0.9569\n",
      "Epoch 32/300\n",
      "287/287 [==============================] - 10s 34ms/step - loss: 0.0601 - accuracy: 0.9821 - val_loss: 0.1531 - val_accuracy: 0.9373\n",
      "Epoch 33/300\n",
      "287/287 [==============================] - 9s 32ms/step - loss: 0.0668 - accuracy: 0.9738 - val_loss: 0.1219 - val_accuracy: 0.9608\n",
      "Epoch 34/300\n",
      "287/287 [==============================] - 10s 33ms/step - loss: 0.0583 - accuracy: 0.9795 - val_loss: 0.1102 - val_accuracy: 0.9647\n",
      "Epoch 35/300\n",
      "287/287 [==============================] - 9s 30ms/step - loss: 0.0635 - accuracy: 0.9804 - val_loss: 0.1467 - val_accuracy: 0.9490\n",
      "Epoch 36/300\n",
      "287/287 [==============================] - 9s 30ms/step - loss: 0.0662 - accuracy: 0.9756 - val_loss: 0.1321 - val_accuracy: 0.9647\n",
      "Epoch 37/300\n",
      "287/287 [==============================] - 10s 34ms/step - loss: 0.0522 - accuracy: 0.9830 - val_loss: 0.1262 - val_accuracy: 0.9647\n",
      "Epoch 38/300\n",
      "287/287 [==============================] - 9s 31ms/step - loss: 0.0426 - accuracy: 0.9838 - val_loss: 0.1252 - val_accuracy: 0.9569\n",
      "Epoch 39/300\n",
      "287/287 [==============================] - 10s 34ms/step - loss: 0.0514 - accuracy: 0.9821 - val_loss: 0.1517 - val_accuracy: 0.9529\n",
      "Epoch 40/300\n",
      "287/287 [==============================] - 10s 36ms/step - loss: 0.0454 - accuracy: 0.9838 - val_loss: 0.1450 - val_accuracy: 0.9686\n",
      "Epoch 41/300\n",
      "287/287 [==============================] - 9s 31ms/step - loss: 0.0495 - accuracy: 0.9830 - val_loss: 0.1177 - val_accuracy: 0.9608\n",
      "Epoch 42/300\n",
      "287/287 [==============================] - 9s 30ms/step - loss: 0.0416 - accuracy: 0.9852 - val_loss: 0.1461 - val_accuracy: 0.9608\n",
      "Epoch 43/300\n",
      "287/287 [==============================] - 8s 30ms/step - loss: 0.0462 - accuracy: 0.9873 - val_loss: 0.1111 - val_accuracy: 0.9608\n",
      "Epoch 44/300\n",
      "287/287 [==============================] - 9s 31ms/step - loss: 0.0347 - accuracy: 0.9887 - val_loss: 0.1037 - val_accuracy: 0.9686\n",
      "Epoch 45/300\n",
      "287/287 [==============================] - 9s 32ms/step - loss: 0.0323 - accuracy: 0.9882 - val_loss: 0.0911 - val_accuracy: 0.9647\n",
      "Epoch 46/300\n",
      "287/287 [==============================] - 8s 29ms/step - loss: 0.0424 - accuracy: 0.9834 - val_loss: 0.1159 - val_accuracy: 0.9647\n",
      "Epoch 47/300\n",
      "287/287 [==============================] - 8s 29ms/step - loss: 0.0382 - accuracy: 0.9878 - val_loss: 0.1007 - val_accuracy: 0.9686\n",
      "Epoch 48/300\n",
      "287/287 [==============================] - 8s 28ms/step - loss: 0.0330 - accuracy: 0.9895 - val_loss: 0.1258 - val_accuracy: 0.9725\n",
      "Epoch 49/300\n",
      "287/287 [==============================] - 8s 29ms/step - loss: 0.0355 - accuracy: 0.9856 - val_loss: 0.1068 - val_accuracy: 0.9725\n",
      "Epoch 50/300\n",
      "287/287 [==============================] - 8s 29ms/step - loss: 0.0277 - accuracy: 0.9900 - val_loss: 0.0904 - val_accuracy: 0.9725\n",
      "Epoch 51/300\n",
      "287/287 [==============================] - 8s 29ms/step - loss: 0.0318 - accuracy: 0.9908 - val_loss: 0.1087 - val_accuracy: 0.9686\n",
      "Epoch 52/300\n",
      "287/287 [==============================] - 8s 29ms/step - loss: 0.0378 - accuracy: 0.9891 - val_loss: 0.1231 - val_accuracy: 0.9647\n",
      "Epoch 53/300\n",
      "287/287 [==============================] - 8s 29ms/step - loss: 0.0227 - accuracy: 0.9904 - val_loss: 0.1388 - val_accuracy: 0.9647\n",
      "Epoch 54/300\n",
      "287/287 [==============================] - 8s 29ms/step - loss: 0.0366 - accuracy: 0.9878 - val_loss: 0.1316 - val_accuracy: 0.9725\n",
      "Epoch 55/300\n",
      "287/287 [==============================] - 8s 29ms/step - loss: 0.0252 - accuracy: 0.9917 - val_loss: 0.0965 - val_accuracy: 0.9765\n",
      "Epoch 56/300\n",
      "287/287 [==============================] - 8s 29ms/step - loss: 0.0250 - accuracy: 0.9908 - val_loss: 0.1268 - val_accuracy: 0.9686\n",
      "Epoch 57/300\n"
     ]
    },
    {
     "name": "stdout",
     "output_type": "stream",
     "text": [
      "287/287 [==============================] - 8s 29ms/step - loss: 0.0309 - accuracy: 0.9904 - val_loss: 0.1050 - val_accuracy: 0.9725\n",
      "Epoch 58/300\n",
      "287/287 [==============================] - 8s 29ms/step - loss: 0.0326 - accuracy: 0.9887 - val_loss: 0.1349 - val_accuracy: 0.9725\n",
      "Epoch 59/300\n",
      "287/287 [==============================] - 8s 29ms/step - loss: 0.0243 - accuracy: 0.9904 - val_loss: 0.1052 - val_accuracy: 0.9765\n",
      "Epoch 60/300\n",
      "287/287 [==============================] - 8s 29ms/step - loss: 0.0251 - accuracy: 0.9939 - val_loss: 0.1219 - val_accuracy: 0.9647\n",
      "Epoch 61/300\n",
      "287/287 [==============================] - 8s 29ms/step - loss: 0.0146 - accuracy: 0.9943 - val_loss: 0.1168 - val_accuracy: 0.9686\n",
      "Epoch 62/300\n",
      "287/287 [==============================] - 8s 28ms/step - loss: 0.0277 - accuracy: 0.9904 - val_loss: 0.1434 - val_accuracy: 0.9686\n",
      "Epoch 63/300\n",
      "287/287 [==============================] - 8s 29ms/step - loss: 0.0313 - accuracy: 0.9904 - val_loss: 0.1028 - val_accuracy: 0.9765\n",
      "Epoch 64/300\n",
      "287/287 [==============================] - 8s 29ms/step - loss: 0.0184 - accuracy: 0.9930 - val_loss: 0.1783 - val_accuracy: 0.9647\n",
      "Epoch 65/300\n",
      "287/287 [==============================] - 8s 29ms/step - loss: 0.0241 - accuracy: 0.9913 - val_loss: 0.1835 - val_accuracy: 0.9529\n",
      "Epoch 66/300\n",
      "287/287 [==============================] - 8s 29ms/step - loss: 0.0307 - accuracy: 0.9908 - val_loss: 0.1245 - val_accuracy: 0.9765\n",
      "Epoch 67/300\n",
      "287/287 [==============================] - 8s 29ms/step - loss: 0.0228 - accuracy: 0.9926 - val_loss: 0.1394 - val_accuracy: 0.9765\n",
      "Epoch 68/300\n",
      "287/287 [==============================] - 8s 29ms/step - loss: 0.0126 - accuracy: 0.9961 - val_loss: 0.1497 - val_accuracy: 0.9725\n",
      "Epoch 69/300\n",
      "287/287 [==============================] - 8s 29ms/step - loss: 0.0231 - accuracy: 0.9961 - val_loss: 0.1879 - val_accuracy: 0.9569\n",
      "Epoch 70/300\n",
      "287/287 [==============================] - 10s 34ms/step - loss: 0.0216 - accuracy: 0.9930 - val_loss: 0.1606 - val_accuracy: 0.9686\n",
      "--- 612.2290933132172 seconds ---\n"
     ]
    }
   ],
   "source": [
    "start_time = time.time() # record time to train for comparison \n",
    "history = model.fit(x_train, y_train, epochs = 300, batch_size = 8, verbose=1, validation_data = (x_test, y_test), callbacks=[callback])\n",
    "print(\"--- %s seconds ---\" % (time.time() - start_time))"
   ]
  },
  {
   "cell_type": "markdown",
   "id": "be35524a",
   "metadata": {},
   "source": [
    "<h6>Some basic results recording, just for keeping information to hand</h6>\n",
    "\n",
    "94.34445095062256 seconds --- 30 epochs , 0.9033 acc , 32x32 RGB image (images are still in greyscale, just RGB format)\n",
    "\n",
    "343.3586163520813 seconds --- 30 epcohs , 0.9182 acc , 64x64 RGB image (images are still in greyscale, just RGB format)\n",
    "\n",
    "1364.8851137161255 seconds --- 30 epochs , 0.8950 acc , 128x128 Greyscale image\n",
    "\n",
    "313.81851744651794 seconds --- 30 epochs , 0.8750 acc , 64x64 Greyscale image\n",
    "\n",
    "87.09897923469543 seconds --- 30 epochs , 0.8833 acc , 32x32 Greyscale image\n",
    "\n",
    "31.2696533203125 seconds --- 30 epochs , 0.8200 acc , 16x16 Greyscale image\n",
    "\n",
    "183.15469479560852 seconds --- 60 epochs , 0.9117 acc , 32x32 Greyscale image"
   ]
  },
  {
   "cell_type": "code",
   "execution_count": 19,
   "id": "5488b94d",
   "metadata": {},
   "outputs": [
    {
     "data": {
      "image/png": "[encoded data removed]",
      "text/plain": [
       "<Figure size 432x288 with 1 Axes>"
      ]
     },
     "metadata": {
      "needs_background": "light"
     },
     "output_type": "display_data"
    }
   ],
   "source": [
    "plt.plot(history.history['val_accuracy'], label=\"test data accuracy\")\n",
    "plt.plot(history.history['accuracy'], label=\"train data accuracy\")\n",
    "plt.xlabel('Epoch')\n",
    "plt.ylabel('Accuracy (%)')\n",
    "plt.suptitle('tumor only model')\n",
    "plt.title('Training data accuracy vs validation accuracy during training')\n",
    "ax = plt.gca()\n",
    "ax.set_xlim([-2, 55])\n",
    "ax.set_ylim([0.5, 1.05])\n",
    "plt.legend()\n",
    "plt.show()"
   ]
  },
  {
   "cell_type": "markdown",
   "id": "ee1d7466",
   "metadata": {},
   "source": [
    "<h5>Read in the validation data in the same way we read in the training and testing data but wihtout the no tumor class</h5>"
   ]
  },
  {
   "cell_type": "code",
   "execution_count": 7,
   "id": "7eda74d3",
   "metadata": {},
   "outputs": [
    {
     "name": "stdout",
     "output_type": "stream",
     "text": [
      "length of validation data: 163\n"
     ]
    }
   ],
   "source": [
    "#img_reshape_size = (32,32) alreadly set higher up\n",
    "\n",
    "validation_data = []\n",
    "validation_result = []\n",
    "\n",
    "encoder = OneHotEncoder()\n",
    "encoder.fit([[0], [1], [2]]) \n",
    "\n",
    "# path to meningioma files\n",
    "meningioma_image_dir = \"test_dataset/test/split_data/multi-class/meningioma_tumor\"\n",
    "meningioma_files = os.listdir(meningioma_image_dir)\n",
    "\n",
    "# path to glioma files\n",
    "glioma_image_dir = \"test_dataset/test/split_data/multi-class/glioma_tumor\"\n",
    "glioma_files = os.listdir(glioma_image_dir)\n",
    "\n",
    "# path to pitulitary files\n",
    "pitulitary_image_dir = \"test_dataset/test/split_data/multi-class/pitulitary_tumor\"\n",
    "pitulitary_files = os.listdir(pitulitary_image_dir)\n",
    "\n",
    "\n",
    "for file in meningioma_files:\n",
    "    temp_file_path = meningioma_image_dir + \"/\" + file\n",
    "    img = Image.open(temp_file_path).convert('L')\n",
    "    img = img.resize(img_reshape_size)\n",
    "    img = np.array(img)\n",
    "    validation_data.append(np.array(img))\n",
    "    validation_result.append(encoder.transform([[0]]).toarray())\n",
    "        \n",
    "for file in glioma_files:\n",
    "    temp_file_path = glioma_image_dir + \"/\"  +file\n",
    "    img = Image.open(temp_file_path).convert('L')\n",
    "    img = img.resize(img_reshape_size)\n",
    "    img = np.array(img)\n",
    "    validation_data.append(np.array(img))\n",
    "    validation_result.append(encoder.transform([[1]]).toarray())\n",
    "        \n",
    "        \n",
    "for file in pitulitary_files:\n",
    "    temp_file_path = pitulitary_image_dir + \"/\"  +file\n",
    "    img = Image.open(temp_file_path).convert('L')\n",
    "    img = img.resize(img_reshape_size)\n",
    "    img = np.array(img)\n",
    "    validation_data.append(np.array(img))\n",
    "    validation_result.append(encoder.transform([[2]]).toarray())\n",
    "    \n",
    "\n",
    "print(\"length of validation data: \" + str(len(meningioma_files)+len(glioma_files)+len(pitulitary_files)))"
   ]
  },
  {
   "cell_type": "markdown",
   "id": "e1996edf",
   "metadata": {},
   "source": [
    "<h5>reshape validation data</h5>"
   ]
  },
  {
   "cell_type": "code",
   "execution_count": 8,
   "id": "27f62d61",
   "metadata": {},
   "outputs": [],
   "source": [
    "validation_data = np.array(validation_data)\n",
    "validation_result = np.array(validation_result)\n",
    "validation_result = validation_result.reshape(163,3)"
   ]
  },
  {
   "cell_type": "markdown",
   "id": "c6423c5a",
   "metadata": {},
   "source": [
    "<h5>Get and print scores</h5>"
   ]
  },
  {
   "cell_type": "code",
   "execution_count": 9,
   "id": "c9a1f57c",
   "metadata": {},
   "outputs": [],
   "source": [
    "scores = model.evaluate(validation_data, validation_result, verbose=10)"
   ]
  },
  {
   "cell_type": "code",
   "execution_count": 10,
   "id": "ec753bfa",
   "metadata": {},
   "outputs": [
    {
     "name": "stdout",
     "output_type": "stream",
     "text": [
      "test loss: 0.1848827600479126\n",
      "test accuracy: 0.9509202241897583\n"
     ]
    }
   ],
   "source": [
    "print(\"test loss: \" + str(scores[0]))\n",
    "print(\"test accuracy: \" + str(scores[1]))"
   ]
  },
  {
   "cell_type": "code",
   "execution_count": null,
   "id": "582ef6cb",
   "metadata": {},
   "outputs": [],
   "source": []
  }
 ],
 "metadata": {
  "kernelspec": {
   "display_name": "Python 3 (ipykernel)",
   "language": "python",
   "name": "python3"
  },
  "language_info": {
   "codemirror_mode": {
    "name": "ipython",
    "version": 3
   },
   "file_extension": ".py",
   "mimetype": "text/x-python",
   "name": "python",
   "nbconvert_exporter": "python",
   "pygments_lexer": "ipython3",
   "version": "3.9.6"
  }
 },
 "nbformat": 4,
 "nbformat_minor": 5
}
