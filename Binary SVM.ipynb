{
 "cells": [
  {
   "cell_type": "markdown",
   "id": "e0d557e5",
   "metadata": {},
   "source": [
    "<h5>Importing libraries</h5>"
   ]
  },
  {
   "cell_type": "code",
   "execution_count": 11,
   "id": "b4462fee",
   "metadata": {},
   "outputs": [],
   "source": [
    "#data handling\n",
    "import pandas as pd\n",
    "import numpy as np\n",
    "import os \n",
    "from PIL import Image\n",
    "\n",
    "# Machine learning \n",
    "import sklearn\n",
    "\n",
    "from sklearn.linear_model import LogisticRegression\n",
    "from sklearn.model_selection import train_test_split\n",
    "from sklearn.preprocessing import OneHotEncoder \n",
    "from sklearn import svm\n",
    "from sklearn.linear_model import LogisticRegression\n",
    "from sklearn.model_selection import GridSearchCV\n",
    "from sklearn.metrics import accuracy_score\n",
    "from sklearn import metrics\n",
    "\n",
    "from sklearn.metrics import auc\n",
    "from sklearn.metrics import roc_curve\n",
    "from sklearn.metrics import RocCurveDisplay\n",
    "\n",
    "# plotting\n",
    "import seaborn as sns\n",
    "import matplotlib.pyplot as plt\n",
    "\n",
    "# misc\n",
    "import time # for recording how long models took to train for later comparison\n",
    "import multiprocessing # for speeding up training time, needed for some of the larger cross validation methods\n"
   ]
  },
  {
   "cell_type": "markdown",
   "id": "1625e2fa",
   "metadata": {},
   "source": [
    "<h5>Read in images into numpy arrays and record type of tumor with one hot encoder</h5>"
   ]
  },
  {
   "cell_type": "code",
   "execution_count": 12,
   "id": "d892ca2e",
   "metadata": {
    "scrolled": true
   },
   "outputs": [],
   "source": [
    "img_reshape_size = (32,32)\n",
    "\n",
    "data = []\n",
    "result = []\n",
    "\n",
    "# path to non tumor files\n",
    "no_tumor_image_dir = \"dataset/split_data/binary/no_tumor\"\n",
    "no_tumor_files = os.listdir(no_tumor_image_dir)\n",
    "\n",
    "# path to tumor files\n",
    "tumor_image_dir = \"dataset/split_data/binary/tumor\"\n",
    "tumor_files = os.listdir(tumor_image_dir)\n",
    "\n",
    "for file in no_tumor_files:\n",
    "    temp_file_path = \"dataset/split_data/binary/no_tumor/\"+file # create path to image\n",
    "    #print(\"path is \" +temp_file_path)\n",
    "    img = Image.open(temp_file_path).convert('L') # not an RGB image so import as greyscale\n",
    "    img = img.resize(img_reshape_size) # reshape image (downscale) to reduce playtime\n",
    "    img = np.array(img) # convert to numpy array\n",
    "    img = img.flatten() # flattern to 1D array for model input\n",
    "    data.append(np.array(img)) # add to data input array\n",
    "    result.append(0) # record no tumor in result array\n",
    "\n",
    "for file in tumor_files:\n",
    "    temp_file_path = \"dataset/split_data/binary/tumor/\"+file # create path to image\n",
    "    img = Image.open(temp_file_path).convert('L') # not an RGB image so import as greyscale\n",
    "    img = img.resize(img_reshape_size) # reshape image (downscale) to reduce playtime\n",
    "    img = np.array(img) # convert to numpy array\n",
    "    img = img.flatten() # flattern to 1D array for model input\n",
    "    data.append(np.array(img)) # add to data input array\n",
    "    result.append(1) # record no tumor in result array"
   ]
  },
  {
   "cell_type": "markdown",
   "id": "22c2e99c",
   "metadata": {},
   "source": [
    "<h5>Reshape data and split between test and train data</h5>"
   ]
  },
  {
   "cell_type": "code",
   "execution_count": 13,
   "id": "af91cc00",
   "metadata": {},
   "outputs": [
    {
     "name": "stdout",
     "output_type": "stream",
     "text": [
      "(3000, 1024)\n",
      "(3000,)\n"
     ]
    }
   ],
   "source": [
    "data = np.asarray(data)\n",
    "print(data.shape)\n",
    "result=np.asarray(result)\n",
    "print(result.shape)"
   ]
  },
  {
   "cell_type": "markdown",
   "id": "59eb7ee6",
   "metadata": {},
   "source": [
    "<h5>Define parameter grid and set multicore up</h5>"
   ]
  },
  {
   "cell_type": "code",
   "execution_count": 30,
   "id": "9b8ff7e6",
   "metadata": {},
   "outputs": [],
   "source": [
    "param_grid={\"C\":[0.001,0.01,0.1,1],\"gamma\":[0.01,0.1,1,10],\"kernel\":[\"rbf\",\"sigmoid\",\"poly\"]} # create param grid for optimisation \n",
    "\n",
    "svc=svm.SVC(probability=True) # to allow for plotting and probability recording\n",
    "cores=multiprocessing.cpu_count()-2 # leaving some cores free\n",
    "model=GridSearchCV(svc, param_grid, verbose=10, n_jobs=cores, scoring = 'accuracy') # create the gridsearchCV\n",
    "\n",
    "\n",
    "# tried a couple of different classifiers\n",
    "\n",
    "#grid={\"penalty\":[\"l1\",\"l2\"]}# l1 lasso l2 ridge\n",
    "#lgc=LogisticRegression( max_iter=10000)\n",
    "#logreg_cv=GridSearchCV(lgc,grid,cv=10)\n",
    "#model=GridSearchCV(logreg_cv,grid, verbose = True)\n",
    "#lgc.fit(x_train, y_train )\n",
    "#lgc.score(x_test,y_test)"
   ]
  },
  {
   "cell_type": "markdown",
   "id": "4e0822da",
   "metadata": {},
   "source": [
    "<h5>Split the data into the same size as the CNN for comparision</h5>"
   ]
  },
  {
   "cell_type": "code",
   "execution_count": 31,
   "id": "1bf006ab",
   "metadata": {},
   "outputs": [],
   "source": [
    "x_train,x_test,y_train,y_test = train_test_split(data, result, test_size=0.2, shuffle=True, random_state=1) # shuffle data and split for own testing purposes, give random state for reproducability "
   ]
  },
  {
   "cell_type": "markdown",
   "id": "dc010b64",
   "metadata": {},
   "source": [
    "<h5>Fit the model and record time</h5>"
   ]
  },
  {
   "cell_type": "code",
   "execution_count": 32,
   "id": "8032f2dd",
   "metadata": {},
   "outputs": [
    {
     "name": "stdout",
     "output_type": "stream",
     "text": [
      "Fitting 5 folds for each of 48 candidates, totalling 240 fits\n",
      "--- 289.13345742225647 seconds ---\n"
     ]
    }
   ],
   "source": [
    "start_time = time.time()\n",
    "model.fit(x_train,y_train)\n",
    "print(\"--- %s seconds ---\" % (time.time() - start_time))"
   ]
  },
  {
   "cell_type": "markdown",
   "id": "84ce72bc",
   "metadata": {},
   "source": [
    "<h5>Recording some meta data quickly</h5>\n",
    "\n",
    "RGB images<br>\n",
    "Fitting 5 folds for each of 48 candidates, totalling 240 fits<br>\n",
    "--- 749.3267393112183 seconds ---<br> ~12 min\n",
    "\n",
    "Greyscale image <br>\n",
    "Fitting 5 folds for each of 48 candidates, totalling 240 fits<br>\n",
    "--- 229.12096786499023 seconds ---<br> <4min"
   ]
  },
  {
   "cell_type": "markdown",
   "id": "e4b6301c",
   "metadata": {},
   "source": [
    "<h5>Get the model performance and the best parameters for the grid search</h5>"
   ]
  },
  {
   "cell_type": "code",
   "execution_count": 33,
   "id": "d0573684",
   "metadata": {},
   "outputs": [
    {
     "name": "stdout",
     "output_type": "stream",
     "text": [
      "0.9453333333333334\n",
      "{'C': 0.001, 'gamma': 0.01, 'kernel': 'poly'}\n"
     ]
    }
   ],
   "source": [
    "print(model.score(x_test,y_test)) # test on uneseen data - before validation set was released\n",
    "print(model.best_params_) # print optimal parameters"
   ]
  },
  {
   "cell_type": "markdown",
   "id": "4d372342",
   "metadata": {},
   "source": [
    "<h5>Read in the unseen validation data</h5>"
   ]
  },
  {
   "cell_type": "code",
   "execution_count": 34,
   "id": "9320a60e",
   "metadata": {},
   "outputs": [],
   "source": [
    "img_reshape_size = (32,32)\n",
    "\n",
    "test_data = []\n",
    "test_result = []\n",
    "\n",
    "# path to non tumor files\n",
    "no_tumor_image_dir = \"test_dataset/test/split_data/binary/no_tumor\"\n",
    "no_tumor_files = os.listdir(no_tumor_image_dir)\n",
    "\n",
    "# path to tumor files\n",
    "tumor_image_dir = \"test_dataset/test/split_data/binary/tumor\"\n",
    "tumor_files = os.listdir(tumor_image_dir)\n",
    "\n",
    "for file in no_tumor_files:\n",
    "    temp_file_path = \"test_dataset/test/split_data/binary/no_tumor/\"+file\n",
    "    #print(\"path is \" +temp_file_path)\n",
    "    img = Image.open(temp_file_path).convert('L') # not an RGB image so import as greyscale\n",
    "    img = img.resize(img_reshape_size)\n",
    "    img = np.array(img)\n",
    "    img = img.flatten()\n",
    "    test_data.append(np.array(img))\n",
    "    test_result.append(0)\n",
    "\n",
    "for file in tumor_files:\n",
    "    temp_file_path = \"test_dataset/test/split_data/binary/tumor/\"+file\n",
    "    img = Image.open(temp_file_path).convert('L')\n",
    "    img = img.resize(img_reshape_size)\n",
    "    img = np.array(img)\n",
    "    img = img.flatten()\n",
    "    test_data.append(np.array(img))\n",
    "    test_result.append(1)"
   ]
  },
  {
   "cell_type": "code",
   "execution_count": 35,
   "id": "ad1455c0",
   "metadata": {},
   "outputs": [
    {
     "name": "stdout",
     "output_type": "stream",
     "text": [
      "test data set length : 200\n",
      "test result set length : 200\n"
     ]
    }
   ],
   "source": [
    "print(\"test data set length : \" + str(len(test_data)))\n",
    "print(\"test result set length : \" + str(len(test_result))) # check length"
   ]
  },
  {
   "cell_type": "markdown",
   "id": "3e434b72",
   "metadata": {},
   "source": [
    "<h5>Score the model to get performance</h5>"
   ]
  },
  {
   "cell_type": "code",
   "execution_count": 36,
   "id": "902d6363",
   "metadata": {},
   "outputs": [
    {
     "data": {
      "text/plain": [
       "0.945"
      ]
     },
     "execution_count": 36,
     "metadata": {},
     "output_type": "execute_result"
    }
   ],
   "source": [
    "model.score(test_data,test_result) # score model"
   ]
  },
  {
   "cell_type": "markdown",
   "id": "5f52a979",
   "metadata": {},
   "source": [
    "Testing on individual images to see which recieved the most false positives."
   ]
  },
  {
   "cell_type": "code",
   "execution_count": 37,
   "id": "48190796",
   "metadata": {},
   "outputs": [
    {
     "name": "stdout",
     "output_type": "stream",
     "text": [
      "no match on prediction : 4. Truth: 0\n",
      "no match on prediction : 8. Truth: 0\n",
      "no match on prediction : 12. Truth: 0\n",
      "no match on prediction : 17. Truth: 0\n",
      "no match on prediction : 19. Truth: 0\n",
      "no match on prediction : 30. Truth: 0\n",
      "no match on prediction : 32. Truth: 0\n",
      "no match on prediction : 33. Truth: 0\n",
      "no match on prediction : 35. Truth: 0\n",
      "no match on prediction : 46. Truth: 1\n",
      "no match on prediction : 48. Truth: 1\n"
     ]
    }
   ],
   "source": [
    "count = 0\n",
    "for i in range(len(test_result)):\n",
    "    if (test_result[i] == model.predict(test_data[i].reshape(1, -1))[0]):\n",
    "        count = count + 1\n",
    "        #print(\"match\")\n",
    "    else:\n",
    "        print(\"no match on prediction : \" + str(i) + \". Truth: \" + str(test_result[i]))"
   ]
  },
  {
   "cell_type": "markdown",
   "id": "99442ac8",
   "metadata": {},
   "source": [
    "<h3>Plotting code</h3>\n",
    "<br>\n",
    "Plots are for the report and not required for the model"
   ]
  },
  {
   "cell_type": "markdown",
   "id": "73d8f49b",
   "metadata": {},
   "source": [
    "<h5>Plot ROC curve</h5>"
   ]
  },
  {
   "cell_type": "code",
   "execution_count": 38,
   "id": "1aa84e30",
   "metadata": {},
   "outputs": [],
   "source": [
    "predictions = model.predict_proba(test_data)"
   ]
  },
  {
   "cell_type": "code",
   "execution_count": 39,
   "id": "f72ed894",
   "metadata": {},
   "outputs": [
    {
     "data": {
      "text/plain": [
       "array([[4.45442687e-01, 5.54557313e-01],\n",
       "       [3.18794797e-01, 6.81205203e-01],\n",
       "       [4.30320179e-01, 5.69679821e-01],\n",
       "       [4.30306812e-01, 5.69693188e-01],\n",
       "       [7.85659793e-09, 9.99999992e-01],\n",
       "       [2.80929229e-01, 7.19070771e-01],\n",
       "       [7.06258904e-01, 2.93741096e-01],\n",
       "       [7.82554619e-01, 2.17445381e-01],\n",
       "       [2.22682753e-01, 7.77317247e-01],\n",
       "       [4.30290014e-01, 5.69709986e-01],\n",
       "       [4.91522337e-01, 5.08477663e-01],\n",
       "       [4.17868263e-01, 5.82131737e-01],\n",
       "       [5.87913819e-02, 9.41208618e-01],\n",
       "       [6.07785922e-01, 3.92214078e-01],\n",
       "       [7.68736197e-01, 2.31263803e-01],\n",
       "       [6.61917803e-01, 3.38082197e-01],\n",
       "       [9.74027458e-01, 2.59725418e-02],\n",
       "       [2.15867185e-01, 7.84132815e-01],\n",
       "       [6.46003920e-01, 3.53996080e-01],\n",
       "       [9.12122486e-03, 9.90878775e-01],\n",
       "       [9.74027458e-01, 2.59725418e-02],\n",
       "       [8.74602446e-01, 1.25397554e-01],\n",
       "       [4.80021915e-01, 5.19978085e-01],\n",
       "       [4.30330498e-01, 5.69669502e-01],\n",
       "       [4.80021915e-01, 5.19978085e-01],\n",
       "       [7.40434326e-01, 2.59565674e-01],\n",
       "       [3.20196499e-01, 6.79803501e-01],\n",
       "       [4.30294987e-01, 5.69705013e-01],\n",
       "       [7.94520493e-01, 2.05479507e-01],\n",
       "       [4.30288183e-01, 5.69711817e-01],\n",
       "       [2.02797042e-01, 7.97202958e-01],\n",
       "       [4.30376442e-01, 5.69623558e-01],\n",
       "       [1.49543865e-01, 8.50456135e-01],\n",
       "       [2.12203534e-01, 7.87796466e-01],\n",
       "       [2.72583881e-01, 7.27416119e-01],\n",
       "       [1.82574277e-01, 8.17425723e-01],\n",
       "       [4.30355262e-01, 5.69644738e-01],\n",
       "       [5.53509631e-02, 9.44649037e-01],\n",
       "       [6.92301533e-02, 9.30769847e-01],\n",
       "       [1.58960458e-01, 8.41039542e-01],\n",
       "       [1.45461949e-02, 9.85453805e-01],\n",
       "       [1.14577014e-01, 8.85422986e-01],\n",
       "       [1.04601216e-01, 8.95398784e-01],\n",
       "       [6.52242451e-02, 9.34775755e-01],\n",
       "       [6.19572992e-02, 9.38042701e-01],\n",
       "       [1.78468819e-01, 8.21531181e-01],\n",
       "       [8.26209020e-01, 1.73790980e-01],\n",
       "       [5.81114487e-02, 9.41888551e-01],\n",
       "       [9.77201541e-01, 2.27984590e-02],\n",
       "       [1.58837129e-01, 8.41162871e-01],\n",
       "       [6.19154969e-02, 9.38084503e-01],\n",
       "       [2.38008512e-01, 7.61991488e-01],\n",
       "       [4.24420381e-02, 9.57557962e-01],\n",
       "       [2.20092865e-02, 9.77990714e-01],\n",
       "       [1.27876699e-01, 8.72123301e-01],\n",
       "       [2.15746758e-02, 9.78425324e-01],\n",
       "       [5.90006653e-02, 9.40999335e-01],\n",
       "       [1.10983046e-02, 9.88901695e-01],\n",
       "       [2.67130470e-02, 9.73286953e-01],\n",
       "       [1.34664449e-01, 8.65335551e-01],\n",
       "       [7.00196174e-02, 9.29980383e-01],\n",
       "       [7.65163743e-02, 9.23483626e-01],\n",
       "       [1.61640491e-01, 8.38359509e-01],\n",
       "       [1.01694689e-01, 8.98305311e-01],\n",
       "       [1.19192612e-01, 8.80807388e-01],\n",
       "       [1.68564026e-01, 8.31435974e-01],\n",
       "       [1.09079110e-01, 8.90920890e-01],\n",
       "       [1.22735084e-01, 8.77264916e-01],\n",
       "       [1.95110692e-01, 8.04889308e-01],\n",
       "       [8.38455620e-02, 9.16154438e-01],\n",
       "       [4.70523072e-02, 9.52947693e-01],\n",
       "       [1.06620080e-01, 8.93379920e-01],\n",
       "       [1.00838164e-01, 8.99161836e-01],\n",
       "       [5.13215851e-02, 9.48678415e-01],\n",
       "       [8.38076472e-02, 9.16192353e-01],\n",
       "       [1.27899856e-01, 8.72100144e-01],\n",
       "       [1.27884535e-01, 8.72115465e-01],\n",
       "       [7.06255511e-02, 9.29374449e-01],\n",
       "       [1.37234129e-02, 9.86276587e-01],\n",
       "       [8.19463922e-02, 9.18053608e-01],\n",
       "       [2.64827157e-02, 9.73517284e-01],\n",
       "       [7.69728558e-02, 9.23027144e-01],\n",
       "       [9.16398110e-02, 9.08360189e-01],\n",
       "       [6.11753315e-02, 9.38824668e-01],\n",
       "       [1.76590277e-02, 9.82340972e-01],\n",
       "       [1.33623679e-01, 8.66376321e-01],\n",
       "       [2.90914389e-03, 9.97090856e-01],\n",
       "       [6.34112661e-02, 9.36588734e-01],\n",
       "       [9.76593016e-02, 9.02340698e-01],\n",
       "       [1.22320241e-01, 8.77679759e-01],\n",
       "       [1.09368159e-01, 8.90631841e-01],\n",
       "       [7.60313430e-02, 9.23968657e-01],\n",
       "       [1.02704219e-01, 8.97295781e-01],\n",
       "       [2.74269572e-02, 9.72573043e-01],\n",
       "       [1.38020047e-01, 8.61979953e-01],\n",
       "       [1.70707566e-01, 8.29292434e-01],\n",
       "       [1.45461949e-02, 9.85453805e-01],\n",
       "       [4.15870898e-02, 9.58412910e-01],\n",
       "       [1.77885986e-01, 8.22114014e-01],\n",
       "       [1.30997880e-01, 8.69002120e-01],\n",
       "       [7.62276954e-02, 9.23772305e-01],\n",
       "       [5.04850102e-02, 9.49514990e-01],\n",
       "       [1.12112055e-01, 8.87887945e-01],\n",
       "       [8.92720377e-02, 9.10727962e-01],\n",
       "       [1.01603945e-01, 8.98396055e-01],\n",
       "       [4.69128725e-02, 9.53087127e-01],\n",
       "       [3.20924080e-02, 9.67907592e-01],\n",
       "       [7.20846133e-02, 9.27915387e-01],\n",
       "       [1.42729644e-01, 8.57270356e-01],\n",
       "       [4.42812359e-02, 9.55718764e-01],\n",
       "       [1.16714378e-02, 9.88328562e-01],\n",
       "       [7.43583497e-02, 9.25641650e-01],\n",
       "       [8.51062053e-02, 9.14893795e-01],\n",
       "       [1.24928193e-01, 8.75071807e-01],\n",
       "       [1.24442125e-01, 8.75557875e-01],\n",
       "       [1.03667153e-01, 8.96332847e-01],\n",
       "       [1.16546695e-01, 8.83453305e-01],\n",
       "       [8.31655428e-02, 9.16834457e-01],\n",
       "       [8.49404665e-02, 9.15059534e-01],\n",
       "       [1.21161324e-01, 8.78838676e-01],\n",
       "       [6.47471244e-02, 9.35252876e-01],\n",
       "       [5.49278649e-03, 9.94507214e-01],\n",
       "       [8.65274282e-02, 9.13472572e-01],\n",
       "       [1.46792991e-01, 8.53207009e-01],\n",
       "       [9.63490224e-02, 9.03650978e-01],\n",
       "       [1.39622966e-01, 8.60377034e-01],\n",
       "       [4.97063999e-02, 9.50293600e-01],\n",
       "       [1.91747951e-02, 9.80825205e-01],\n",
       "       [5.58960698e-02, 9.44103930e-01],\n",
       "       [9.60639705e-02, 9.03936029e-01],\n",
       "       [1.26056877e-01, 8.73943123e-01],\n",
       "       [1.27872478e-01, 8.72127522e-01],\n",
       "       [3.14969973e-02, 9.68503003e-01],\n",
       "       [9.21182600e-02, 9.07881740e-01],\n",
       "       [4.26599456e-03, 9.95734005e-01],\n",
       "       [1.29012105e-01, 8.70987895e-01],\n",
       "       [1.27904213e-01, 8.72095787e-01],\n",
       "       [1.22970559e-01, 8.77029441e-01],\n",
       "       [7.91614225e-02, 9.20838577e-01],\n",
       "       [1.09622230e-02, 9.89037777e-01],\n",
       "       [1.38737219e-01, 8.61262781e-01],\n",
       "       [1.45230909e-01, 8.54769091e-01],\n",
       "       [1.21884724e-01, 8.78115276e-01],\n",
       "       [7.77756658e-02, 9.22224334e-01],\n",
       "       [4.21215167e-02, 9.57878483e-01],\n",
       "       [1.00288683e-01, 8.99711317e-01],\n",
       "       [4.57432474e-02, 9.54256753e-01],\n",
       "       [4.79882524e-02, 9.52011748e-01],\n",
       "       [6.09891630e-08, 9.99999939e-01],\n",
       "       [1.24972325e-01, 8.75027675e-01],\n",
       "       [1.22042303e-01, 8.77957697e-01],\n",
       "       [5.23555324e-02, 9.47644468e-01],\n",
       "       [7.60492879e-02, 9.23950712e-01],\n",
       "       [4.54435704e-02, 9.54556430e-01],\n",
       "       [6.85582904e-02, 9.31441710e-01],\n",
       "       [2.15301249e-02, 9.78469875e-01],\n",
       "       [9.99175176e-02, 9.00082482e-01],\n",
       "       [4.56815284e-02, 9.54318472e-01],\n",
       "       [7.50360482e-02, 9.24963952e-01],\n",
       "       [2.84555475e-02, 9.71544452e-01],\n",
       "       [1.48619635e-01, 8.51380365e-01],\n",
       "       [5.89055473e-02, 9.41094453e-01],\n",
       "       [7.90833993e-02, 9.20916601e-01],\n",
       "       [3.21295195e-06, 9.99996787e-01],\n",
       "       [5.92858614e-03, 9.94071414e-01],\n",
       "       [4.60967791e-02, 9.53903221e-01],\n",
       "       [1.36280877e-01, 8.63719123e-01],\n",
       "       [1.45157693e-01, 8.54842307e-01],\n",
       "       [8.55335346e-02, 9.14466465e-01],\n",
       "       [5.40976197e-02, 9.45902380e-01],\n",
       "       [6.38846993e-02, 9.36115301e-01],\n",
       "       [1.41892776e-01, 8.58107224e-01],\n",
       "       [9.67481203e-02, 9.03251880e-01],\n",
       "       [1.60874539e-02, 9.83912546e-01],\n",
       "       [1.11621541e-01, 8.88378459e-01],\n",
       "       [1.27914051e-01, 8.72085949e-01],\n",
       "       [8.86943559e-02, 9.11305644e-01],\n",
       "       [1.41174487e-01, 8.58825513e-01],\n",
       "       [1.60690176e-01, 8.39309824e-01],\n",
       "       [9.84372111e-02, 9.01562789e-01],\n",
       "       [7.79608375e-02, 9.22039162e-01],\n",
       "       [1.07531388e-01, 8.92468612e-01],\n",
       "       [1.38921654e-02, 9.86107835e-01],\n",
       "       [1.45635579e-01, 8.54364421e-01],\n",
       "       [1.21623160e-01, 8.78376840e-01],\n",
       "       [8.08599285e-02, 9.19140072e-01],\n",
       "       [1.02589019e-01, 8.97410981e-01],\n",
       "       [1.45906684e-01, 8.54093316e-01],\n",
       "       [4.20852792e-06, 9.99995791e-01],\n",
       "       [1.25688702e-01, 8.74311298e-01],\n",
       "       [5.97711901e-02, 9.40228810e-01],\n",
       "       [1.15370829e-01, 8.84629171e-01],\n",
       "       [1.44702744e-01, 8.55297256e-01],\n",
       "       [7.50595805e-02, 9.24940420e-01],\n",
       "       [1.31078982e-01, 8.68921018e-01],\n",
       "       [3.77941797e-02, 9.62205820e-01],\n",
       "       [1.45957413e-01, 8.54042587e-01],\n",
       "       [1.38020966e-01, 8.61979034e-01],\n",
       "       [6.36884793e-02, 9.36311521e-01],\n",
       "       [9.92239662e-02, 9.00776034e-01]])"
      ]
     },
     "execution_count": 39,
     "metadata": {},
     "output_type": "execute_result"
    }
   ],
   "source": [
    "predictions"
   ]
  },
  {
   "cell_type": "code",
   "execution_count": 40,
   "id": "be58124f",
   "metadata": {},
   "outputs": [
    {
     "data": {
      "text/plain": [
       "array([0.55455731, 0.6812052 , 0.56967982, 0.56969319, 0.99999999,\n",
       "       0.71907077, 0.7062589 , 0.78255462, 0.77731725, 0.56970999,\n",
       "       0.50847766, 0.58213174, 0.94120862, 0.60778592, 0.7687362 ,\n",
       "       0.6619178 , 0.97402746, 0.78413281, 0.64600392, 0.99087878,\n",
       "       0.97402746, 0.87460245, 0.51997808, 0.5696695 , 0.51997808,\n",
       "       0.74043433, 0.6798035 , 0.56970501, 0.79452049, 0.56971182,\n",
       "       0.79720296, 0.56962356, 0.85045614, 0.78779647, 0.72741612,\n",
       "       0.81742572, 0.56964474, 0.94464904, 0.93076985, 0.84103954,\n",
       "       0.98545381, 0.88542299, 0.89539878, 0.93477575, 0.9380427 ,\n",
       "       0.82153118, 0.82620902, 0.94188855, 0.97720154, 0.84116287,\n",
       "       0.9380845 , 0.76199149, 0.95755796, 0.97799071, 0.8721233 ,\n",
       "       0.97842532, 0.94099933, 0.9889017 , 0.97328695, 0.86533555,\n",
       "       0.92998038, 0.92348363, 0.83835951, 0.89830531, 0.88080739,\n",
       "       0.83143597, 0.89092089, 0.87726492, 0.80488931, 0.91615444,\n",
       "       0.95294769, 0.89337992, 0.89916184, 0.94867841, 0.91619235,\n",
       "       0.87210014, 0.87211547, 0.92937445, 0.98627659, 0.91805361,\n",
       "       0.97351728, 0.92302714, 0.90836019, 0.93882467, 0.98234097,\n",
       "       0.86637632, 0.99709086, 0.93658873, 0.9023407 , 0.87767976,\n",
       "       0.89063184, 0.92396866, 0.89729578, 0.97257304, 0.86197995,\n",
       "       0.82929243, 0.98545381, 0.95841291, 0.82211401, 0.86900212,\n",
       "       0.9237723 , 0.94951499, 0.88788795, 0.91072796, 0.89839606,\n",
       "       0.95308713, 0.96790759, 0.92791539, 0.85727036, 0.95571876,\n",
       "       0.98832856, 0.92564165, 0.91489379, 0.87507181, 0.87555787,\n",
       "       0.89633285, 0.8834533 , 0.91683446, 0.91505953, 0.87883868,\n",
       "       0.93525288, 0.99450721, 0.91347257, 0.85320701, 0.90365098,\n",
       "       0.86037703, 0.9502936 , 0.9808252 , 0.94410393, 0.90393603,\n",
       "       0.87394312, 0.87212752, 0.968503  , 0.90788174, 0.99573401,\n",
       "       0.8709879 , 0.87209579, 0.87702944, 0.92083858, 0.98903778,\n",
       "       0.86126278, 0.85476909, 0.87811528, 0.92222433, 0.95787848,\n",
       "       0.89971132, 0.95425675, 0.95201175, 0.99999994, 0.87502767,\n",
       "       0.8779577 , 0.94764447, 0.92395071, 0.95455643, 0.93144171,\n",
       "       0.97846988, 0.90008248, 0.95431847, 0.92496395, 0.97154445,\n",
       "       0.85138037, 0.94109445, 0.9209166 , 0.99999679, 0.99407141,\n",
       "       0.95390322, 0.86371912, 0.85484231, 0.91446647, 0.94590238,\n",
       "       0.9361153 , 0.85810722, 0.90325188, 0.98391255, 0.88837846,\n",
       "       0.87208595, 0.91130564, 0.85882551, 0.83930982, 0.90156279,\n",
       "       0.92203916, 0.89246861, 0.98610783, 0.85436442, 0.87837684,\n",
       "       0.91914007, 0.89741098, 0.85409332, 0.99999579, 0.8743113 ,\n",
       "       0.94022881, 0.88462917, 0.85529726, 0.92494042, 0.86892102,\n",
       "       0.96220582, 0.85404259, 0.86197903, 0.93631152, 0.90077603])"
      ]
     },
     "execution_count": 40,
     "metadata": {},
     "output_type": "execute_result"
    }
   ],
   "source": [
    "np.max(predictions,axis=1)"
   ]
  },
  {
   "cell_type": "code",
   "execution_count": 41,
   "id": "05635b8f",
   "metadata": {},
   "outputs": [
    {
     "data": {
      "image/png": "[encoded data removed]",
      "text/plain": [
       "<Figure size 432x288 with 1 Axes>"
      ]
     },
     "metadata": {
      "needs_background": "light"
     },
     "output_type": "display_data"
    }
   ],
   "source": [
    "RocCurveDisplay.from_predictions(np.asarray(test_result), np.max(predictions, axis=1)) \n",
    "plt.title(\"SVM ROC curve\")\n",
    "plt.show()"
   ]
  },
  {
   "cell_type": "markdown",
   "id": "88ded006",
   "metadata": {},
   "source": [
    "<h5>plot sample of images</h5>"
   ]
  },
  {
   "cell_type": "code",
   "execution_count": null,
   "id": "efdfcf04",
   "metadata": {},
   "outputs": [],
   "source": [
    "fig = plt.figure()\n",
    "plt.subplots_adjust(wspace=0, hspace=0)\n",
    "\n",
    "\n",
    "plt.subplot(3, 3, 1)\n",
    "image = Image.open(tt[0])\n",
    "im = np.array(image) \n",
    "plt.imshow(im, cmap=\"gray\")\n",
    "plt.tick_params(\n",
    "    axis='x',          # changes apply to the x-axis\n",
    "    which='both',      # both major and minor ticks are affected\n",
    "    bottom=False,      # ticks along the bottom edge are off\n",
    "    top=False,         # ticks along the top edge are off\n",
    "    labelbottom=False) # labels along the bottom edge are off\n",
    "plt.tick_params(\n",
    "    axis='y',          # changes apply to the x-axis\n",
    "    which='both',      # both major and minor ticks are affected\n",
    "    left=False,      # ticks along the bottom edge are off\n",
    "    top=False,         # ticks along the top edge are off\n",
    "    labelleft=False) # labels along the bottom edge are off\n",
    "\n",
    "plt.subplot(3, 3, 2)\n",
    "image = Image.open(tt[1])\n",
    "im = np.array(image)\n",
    "plt.imshow(im, cmap=\"gray\")\n",
    "plt.tick_params(\n",
    "    axis='x',          # changes apply to the x-axis\n",
    "    which='both',      # both major and minor ticks are affected\n",
    "    bottom=False,      # ticks along the bottom edge are off\n",
    "    top=False,         # ticks along the top edge are off\n",
    "    labelbottom=False) # labels along the bottom edge are off\n",
    "plt.tick_params(\n",
    "    axis='y',          # changes apply to the x-axis\n",
    "    which='both',      # both major and minor ticks are affected\n",
    "    left=False,      # ticks along the bottom edge are off\n",
    "    top=False,         # ticks along the top edge are off\n",
    "    labelleft=False) # labels along the bottom edge are off\n",
    "\n",
    "plt.subplot(3, 3, 3)\n",
    "image = Image.open(tt[2])\n",
    "im = np.array(image)\n",
    "plt.imshow(im, cmap=\"gray\")\n",
    "plt.tick_params(\n",
    "    axis='x',          # changes apply to the x-axis\n",
    "    which='both',      # both major and minor ticks are affected\n",
    "    bottom=False,      # ticks along the bottom edge are off\n",
    "    top=False,         # ticks along the top edge are off\n",
    "    labelbottom=False) # labels along the bottom edge are off\n",
    "plt.tick_params(\n",
    "    axis='y',          # changes apply to the x-axis\n",
    "    which='both',      # both major and minor ticks are affected\n",
    "    left=False,      # ticks along the bottom edge are off\n",
    "    top=False,         # ticks along the top edge are off\n",
    "    labelleft=False) # labels along the bottom edge are off\n",
    "\n",
    "plt.subplot(3, 3, 4)\n",
    "image = Image.open(tt[3])\n",
    "im = np.array(image)\n",
    "plt.imshow(im, cmap=\"gray\")\n",
    "plt.tick_params(\n",
    "    axis='y',          # changes apply to the x-axis\n",
    "    which='both',      # both major and minor ticks are affected\n",
    "    left=False,      # ticks along the bottom edge are off\n",
    "    top=False,         # ticks along the top edge are off\n",
    "    labelleft=False) # labels along the bottom edge are off\n",
    "plt.tick_params(\n",
    "    axis='x',          # changes apply to the x-axis\n",
    "    which='both',      # both major and minor ticks are affected\n",
    "    bottom=False,      # ticks along the bottom edge are off\n",
    "    top=False,         # ticks along the top edge are off\n",
    "    labelbottom=False) # labels along the bottom edge are off\n",
    "\n",
    "plt.subplot(3, 3, 5)\n",
    "image = Image.open(tt[4])\n",
    "im = np.array(image)\n",
    "plt.imshow(im, cmap=\"gray\")\n",
    "plt.tick_params(\n",
    "    axis='x',          # changes apply to the x-axis\n",
    "    which='both',      # both major and minor ticks are affected\n",
    "    bottom=False,      # ticks along the bottom edge are off\n",
    "    top=False,         # ticks along the top edge are off\n",
    "    labelbottom=False) # labels along the bottom edge are off\n",
    "plt.tick_params(\n",
    "    axis='y',          # changes apply to the x-axis\n",
    "    which='both',      # both major and minor ticks are affected\n",
    "    left=False,      # ticks along the bottom edge are off\n",
    "    top=False,         # ticks along the top edge are off\n",
    "    labelleft=False) # labels along the bottom edge are off\n",
    "\n",
    "plt.subplot(3, 3, 6)\n",
    "image = Image.open(tt[5])\n",
    "im = np.array(image)\n",
    "plt.imshow(im, cmap=\"gray\")\n",
    "plt.tick_params(\n",
    "    axis='x',          # changes apply to the x-axis\n",
    "    which='both',      # both major and minor ticks are affected\n",
    "    bottom=False,      # ticks along the bottom edge are off\n",
    "    top=False,         # ticks along the top edge are off\n",
    "    labelbottom=False) # labels along the bottom edge are off\n",
    "plt.tick_params(\n",
    "    axis='y',          # changes apply to the x-axis\n",
    "    which='both',      # both major and minor ticks are affected\n",
    "    left=False,      # ticks along the bottom edge are off\n",
    "    top=False,         # ticks along the top edge are off\n",
    "    labelleft=False) # labels along the bottom edge are off\n",
    "\n",
    "plt.subplot(3, 3, 7)\n",
    "image = Image.open(tt[6])\n",
    "im = np.array(image)\n",
    "plt.imshow(im, cmap=\"gray\")\n",
    "plt.tick_params(\n",
    "    axis='x',          # changes apply to the x-axis\n",
    "    which='both',      # both major and minor ticks are affected\n",
    "    bottom=False,      # ticks along the bottom edge are off\n",
    "    top=False,         # ticks along the top edge are off\n",
    "    labelbottom=False) # labels along the bottom edge are off\n",
    "plt.tick_params(\n",
    "    axis='y',          # changes apply to the x-axis\n",
    "    which='both',      # both major and minor ticks are affected\n",
    "    left=False,      # ticks along the bottom edge are off\n",
    "    top=False,         # ticks along the top edge are off\n",
    "    labelleft=False) # labels along the bottom edge are off\n",
    "\n",
    "plt.subplot(3, 3, 8)\n",
    "image = Image.open(tt[7])\n",
    "im = np.array(image) \n",
    "plt.imshow(im, cmap=\"gray\")\n",
    "plt.tick_params(\n",
    "    axis='x',          # changes apply to the x-axis\n",
    "    which='both',      # both major and minor ticks are affected\n",
    "    bottom=False,      # ticks along the bottom edge are off\n",
    "    top=False,         # ticks along the top edge are off\n",
    "    labelbottom=False) # labels along the bottom edge are off\n",
    "plt.tick_params(\n",
    "    axis='y',          # changes apply to the x-axis\n",
    "    which='both',      # both major and minor ticks are affected\n",
    "    left=False,      # ticks along the bottom edge are off\n",
    "    top=False,         # ticks along the top edge are off\n",
    "    labelleft=False) # labels along the bottom edge are off\n",
    "\n",
    "plt.subplot(3, 3, 9)\n",
    "image = Image.open(tt[8])\n",
    "im = np.array(image)\n",
    "plt.imshow(im, cmap=\"gray\")\n",
    "plt.tick_params(\n",
    "    axis='x',          # changes apply to the x-axis\n",
    "    which='both',      # both major and minor ticks are affected\n",
    "    bottom=False,      # ticks along the bottom edge are off\n",
    "    top=False,         # ticks along the top edge are off\n",
    "    labelbottom=False) # labels along the bottom edge are off\n",
    "plt.tick_params(\n",
    "    axis='y',          # changes apply to the x-axis\n",
    "    which='both',      # both major and minor ticks are affected\n",
    "    left=False,      # ticks along the bottom edge are off\n",
    "    top=False,         # ticks along the top edge are off\n",
    "    labelleft=False) # labels along the bottom edge are off\n",
    "\n",
    "plt.subplots_adjust(left=.1,\n",
    "                    bottom=.1, \n",
    "                    right=.9, \n",
    "                    top=.9, \n",
    "                    wspace=.0005, \n",
    "                    hspace=.2)\n",
    "#plt.show()\n",
    "\n",
    "plt.savefig('example_training_images.png')"
   ]
  },
  {
   "cell_type": "code",
   "execution_count": null,
   "id": "333769b7",
   "metadata": {},
   "outputs": [],
   "source": [
    "sklearn.metrics.SCORERS.keys()"
   ]
  }
 ],
 "metadata": {
  "kernelspec": {
   "display_name": "Python 3 (ipykernel)",
   "language": "python",
   "name": "python3"
  },
  "language_info": {
   "codemirror_mode": {
    "name": "ipython",
    "version": 3
   },
   "file_extension": ".py",
   "mimetype": "text/x-python",
   "name": "python",
   "nbconvert_exporter": "python",
   "pygments_lexer": "ipython3",
   "version": "3.9.6"
  }
 },
 "nbformat": 4,
 "nbformat_minor": 5
}
